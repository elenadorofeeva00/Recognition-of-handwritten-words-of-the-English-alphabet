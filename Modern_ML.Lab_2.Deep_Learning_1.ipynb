{
 "cells": [
  {
   "cell_type": "markdown",
   "metadata": {},
   "source": [
    "# <center> Майнор \"Интеллектуальный анализ данных\" </center>"
   ]
  },
  {
   "cell_type": "markdown",
   "metadata": {},
   "source": [
    "# <center> Курс \"Современные методы машинного обучения\" </center>"
   ]
  },
  {
   "cell_type": "markdown",
   "metadata": {},
   "source": [
    "# <center> Лабораторная работа №2. Deep Learning. </center>"
   ]
  },
  {
   "cell_type": "markdown",
   "metadata": {},
   "source": [
    "В данной лабораторной работе вам предлагается обучить модель на основе нейронной сети для распознавания рукописных букв английского алфавита."
   ]
  },
  {
   "cell_type": "markdown",
   "metadata": {},
   "source": [
    "## Данные"
   ]
  },
  {
   "cell_type": "markdown",
   "metadata": {},
   "source": [
    "Данные представлены двумя датасетами: обучающим (`train`) и тестовым (`test`). Изображения для каждого датасета находятся в `images.zip`.  \n",
    "  \n",
    "Обучающая выборка состоит из 65000 изображений - по 2500 изображений для каждой буквы.  \n",
    "Тестовая выборка состоит из 13000 изображений - по 500 изображений для каждой буквы.  \n",
    "  \n",
    "Все изображения - монохромные (но в формате RGB), размерности $28 \\times 28$ пикселей, в формате JPEG. \n",
    "В названии каждого файла содержатся буква, которая представлена на изображении, и уникальный номер изображения: `a_00002.jpg`.  \n",
    "  \n",
    "**NB:** Все изображения представлены в перевернутом виде, для корректного отображения их нужно сначала транспонировать. "
   ]
  },
  {
   "cell_type": "code",
   "execution_count": 139,
   "metadata": {},
   "outputs": [],
   "source": [
    "import numpy as np\n",
    "import matplotlib.pyplot as plt\n",
    "import seaborn as sns\n",
    "\n",
    "import string\n",
    "\n",
    "from sklearn.preprocessing import *\n",
    "from sklearn.pipeline import *\n",
    "from sklearn.feature_extraction.text import *\n",
    "from sklearn.model_selection import train_test_split\n",
    "from sklearn.decomposition import *\n",
    "\n",
    "import os\n",
    "import random\n",
    "\n",
    "import torch\n",
    "import torch.nn as nn\n",
    "from torch.utils.data import DataLoader, Dataset\n",
    "import torch.optim as optim\n",
    "from sklearn.metrics import log_loss\n",
    "import torchvision\n",
    "from torchvision import datasets, models\n",
    "import torchvision.transforms as transforms\n",
    "import torch.nn.functional as F\n",
    "\n",
    "device = torch.device('cuda' if torch.cuda.is_available() else 'cpu')"
   ]
  },
  {
   "cell_type": "code",
   "execution_count": 2,
   "metadata": {},
   "outputs": [
    {
     "name": "stdout",
     "output_type": "stream",
     "text": [
      "(28, 28, 3)\n"
     ]
    }
   ],
   "source": [
    "pic = plt.imread('images/train/a/a_00002.jpg')\n",
    "print(pic.shape)"
   ]
  },
  {
   "cell_type": "code",
   "execution_count": 3,
   "metadata": {},
   "outputs": [],
   "source": [
    "pic = np.transpose(pic, axes=(1, 0, 2))"
   ]
  },
  {
   "cell_type": "code",
   "execution_count": 4,
   "metadata": {},
   "outputs": [
    {
     "data": {
      "image/png": "[encoded data removed]",
      "text/plain": [
       "<Figure size 144x144 with 1 Axes>"
      ]
     },
     "metadata": {
      "needs_background": "light"
     },
     "output_type": "display_data"
    }
   ],
   "source": [
    "plt.figure(figsize=(2,2))\n",
    "plt.imshow(pic)\n",
    "plt.show()"
   ]
  },
  {
   "cell_type": "markdown",
   "metadata": {},
   "source": [
    "### Preprocessing"
   ]
  },
  {
   "cell_type": "code",
   "execution_count": 5,
   "metadata": {},
   "outputs": [],
   "source": [
    "data_transforms = {\n",
    "    'train': transforms.Compose([\n",
    "        transforms.ToTensor(),\n",
    "        transforms.Normalize([0.5, 0.5, 0.5], [0.5, 0.5, 0.5])\n",
    "    ]),\n",
    "    'test': transforms.Compose([\n",
    "        transforms.ToTensor(),\n",
    "        transforms.Normalize([0.5, 0.5, 0.5], [0.5, 0.5, 0.5])\n",
    "    ]),\n",
    "}"
   ]
  },
  {
   "cell_type": "code",
   "execution_count": 6,
   "metadata": {},
   "outputs": [],
   "source": [
    "def get_dataset(data_dir, data_transforms ):\n",
    "    # create train and test datasets\n",
    "    image_datasets = {x: datasets.ImageFolder(os.path.join(data_dir, x),\n",
    "                                              data_transforms[x])\n",
    "                      for x in ['train', 'test']}\n",
    "    dataloaders = {x: torch.utils.data.DataLoader(image_datasets[x], batch_size=4,\n",
    "                                                 shuffle=True, num_workers=4)\n",
    "                  for x in ['train', 'test']}\n",
    "    dataset_sizes = {x: len(image_datasets[x]) for x in ['train', 'test']}\n",
    "    #get classes from train dataset folders name\n",
    "    classes = image_datasets['train'].classes\n",
    "\n",
    "    return dataloaders[\"train\"], dataloaders['test'], classes, dataset_sizes"
   ]
  },
  {
   "cell_type": "code",
   "execution_count": 7,
   "metadata": {},
   "outputs": [],
   "source": [
    "trainloader, testloader, classes, dataset_sizes=get_dataset('images',data_transforms)"
   ]
  },
  {
   "cell_type": "code",
   "execution_count": 8,
   "metadata": {},
   "outputs": [
    {
     "name": "stdout",
     "output_type": "stream",
     "text": [
      "Classes:  ['a', 'b', 'c', 'd', 'e', 'f', 'g', 'h', 'i', 'j', 'k', 'l', 'm', 'n', 'o', 'p', 'q', 'r', 's', 't', 'u', 'v', 'w', 'x', 'y', 'z']\n"
     ]
    }
   ],
   "source": [
    "print('Classes: ',  classes)"
   ]
  },
  {
   "cell_type": "code",
   "execution_count": 9,
   "metadata": {},
   "outputs": [
    {
     "name": "stdout",
     "output_type": "stream",
     "text": [
      "The datasets have:  {'train': 65000, 'test': 13000}  images\n"
     ]
    }
   ],
   "source": [
    "print('The datasets have: ',  dataset_sizes ,\" images\")"
   ]
  },
  {
   "cell_type": "markdown",
   "metadata": {},
   "source": [
    "Посмотрим на наши картиночки из учебной выборки"
   ]
  },
  {
   "cell_type": "code",
   "execution_count": 10,
   "metadata": {},
   "outputs": [],
   "source": [
    "def imshow(img):\n",
    "    img = img / 2 + 0.5      # unnormalize\n",
    "    #img = np.transpose(img, axes=(1, 0, 2))\n",
    "    npimg = img.numpy()\n",
    "    plt.imshow(np.transpose(npimg, (1, 2, 0)))\n",
    "    plt.show()"
   ]
  },
  {
   "cell_type": "code",
   "execution_count": 11,
   "metadata": {},
   "outputs": [
    {
     "data": {
      "image/png": "[encoded data removed]",
      "text/plain": [
       "<Figure size 432x288 with 1 Axes>"
      ]
     },
     "metadata": {
      "needs_background": "light"
     },
     "output_type": "display_data"
    },
    {
     "name": "stdout",
     "output_type": "stream",
     "text": [
      "    w     p     s     i\n"
     ]
    }
   ],
   "source": [
    "# get some random training images\n",
    "dataiter = iter(trainloader)\n",
    "images, labels = next(dataiter)\n",
    "\n",
    "# show images\n",
    "images = [np.transpose(pic, axes=(0, 2, 1)) for pic in images]\n",
    "imshow(torchvision.utils.make_grid(images))\n",
    "# print labels\n",
    "print(' '.join('%5s' % classes[labels[j]] for j in range(4)))"
   ]
  },
  {
   "cell_type": "markdown",
   "metadata": {},
   "source": [
    "## Основные задания"
   ]
  },
  {
   "cell_type": "markdown",
   "metadata": {},
   "source": [
    "Ваша задача - создать и обучить модель на основе нейронной сети, которая будет предсказывать букву на картинке.  \n",
    "Обучение необходимо проводить на данных из `train`, качество модели проверять на данных из `test`.  \n",
    "Целевая метрика - accuracy.  \n",
    "Для моделирования необходимо использовать `pytorch`."
   ]
  },
  {
   "cell_type": "markdown",
   "metadata": {},
   "source": [
    "### Задание 1  \n",
    "  \n",
    "*Вес в общей оценке - 0.35*  \n",
    "  \n",
    "1. Постройте и обучите модели с 2-мя и 3-мя полносвязными (dense) скрытыми слоями.  \n",
    "При моделировании необходимо попробовать разные параметры нейронной сети - число нейронов на каждом слое, learning rate, batch size, функции активации, регуляризации и т.д. Оцените качество моделей с различными параметрами, проведите сравнительный анализ. \n",
    "2. Для наилучшей модели постройте confusion matrix результатов предсказаний модели на тестовых данных.  \n",
    "Насколько равномерно обучилась ваша модель? Приведите буквы с самой лучшей и с самой худшей точностью детекции.\n",
    "3. Найдите 10 пар букв, которые чаще всего путаются между собой, дайте возможное объяснение. Приведите примеры с картинками, которые были детектированы с ошибкой.\n",
    "4. Возьмите первую букву вашей фамилии и укажите её точность детекции. С какими буквами ваша модель чаще всего путает эту букву?     "
   ]
  },
  {
   "cell_type": "markdown",
   "metadata": {},
   "source": [
    "## 3 слоя"
   ]
  },
  {
   "cell_type": "markdown",
   "metadata": {},
   "source": [
    "### Подберем batch_size и learning_rate"
   ]
  },
  {
   "cell_type": "code",
   "execution_count": 12,
   "metadata": {},
   "outputs": [],
   "source": [
    "batch_size = [50, 100, 200, 500, 1000]\n",
    "error = []"
   ]
  },
  {
   "cell_type": "code",
   "execution_count": 13,
   "metadata": {},
   "outputs": [],
   "source": [
    "def get_dataset(data_dir, data_transforms, batch_s):\n",
    "    # create train and test datasets\n",
    "    image_datasets = {x: datasets.ImageFolder(os.path.join(data_dir, x),\n",
    "                                              data_transforms[x])\n",
    "                      for x in ['train', 'test']}\n",
    "    dataloaders = {x: torch.utils.data.DataLoader(image_datasets[x], batch_size=batch_s,\n",
    "                                                 shuffle=True, num_workers=4)\n",
    "                  for x in ['train', 'test']}\n",
    "    dataset_sizes = {x: len(image_datasets[x]) for x in ['train', 'test']}\n",
    "    #get classes from train dataset folders name\n",
    "    classes = image_datasets['train'].classes\n",
    "\n",
    "    return dataloaders[\"train\"], dataloaders['test'], classes, dataset_sizes"
   ]
  },
  {
   "cell_type": "code",
   "execution_count": 14,
   "metadata": {},
   "outputs": [],
   "source": [
    "class Net(nn.Module):\n",
    "    def __init__(self):\n",
    "        super(Net, self).__init__()\n",
    "        self.cnn_layers = nn.Sequential(\n",
    "            nn.Flatten(),\n",
    "            nn.BatchNorm1d(2352),\n",
    "            nn.Linear(28*28*3, 300),\n",
    "            nn.ReLU(),\n",
    "            nn.Linear(300, 200),\n",
    "            nn.ReLU(),\n",
    "            nn.Linear(200, 26),\n",
    "            nn.LogSoftmax(dim=1))\n",
    "        \n",
    "    def forward(self, x):\n",
    "        x = self.cnn_layers(x)\n",
    "        return x\n",
    "    \n",
    "net = Net()"
   ]
  },
  {
   "cell_type": "code",
   "execution_count": 15,
   "metadata": {},
   "outputs": [],
   "source": [
    "criterion = nn.CrossEntropyLoss()      # (logsoftmax + negative likelihood) in its core, applied to logits\n",
    "\n",
    "optimizer = torch.optim.Adam(net.parameters(), lr=0.0001, betas=(0.9, 0.99))"
   ]
  },
  {
   "cell_type": "markdown",
   "metadata": {},
   "source": [
    "Я буду в первых двух заданиях строить с 2мя эпохами, так как даже 5 эпох приходится очень долго ждать."
   ]
  },
  {
   "cell_type": "code",
   "execution_count": 16,
   "metadata": {},
   "outputs": [],
   "source": [
    "acc = []"
   ]
  },
  {
   "cell_type": "code",
   "execution_count": 17,
   "metadata": {},
   "outputs": [
    {
     "name": "stdout",
     "output_type": "stream",
     "text": [
      "Batch size:  50\n",
      "[1,   100] loss: 2.716\n",
      "[1,   200] loss: 1.614\n",
      "[1,   300] loss: 1.221\n",
      "[1,   400] loss: 1.031\n",
      "[1,   500] loss: 0.988\n",
      "[1,   600] loss: 0.885\n",
      "[1,   700] loss: 0.835\n",
      "[1,   800] loss: 0.821\n",
      "[1,   900] loss: 0.790\n",
      "[1,  1000] loss: 0.776\n",
      "[1,  1100] loss: 0.706\n",
      "[1,  1200] loss: 0.682\n",
      "[1,  1300] loss: 0.660\n",
      "[2,   100] loss: 0.613\n",
      "[2,   200] loss: 0.596\n",
      "[2,   300] loss: 0.593\n",
      "[2,   400] loss: 0.560\n",
      "[2,   500] loss: 0.583\n",
      "[2,   600] loss: 0.552\n",
      "[2,   700] loss: 0.565\n",
      "[2,   800] loss: 0.530\n",
      "[2,   900] loss: 0.525\n",
      "[2,  1000] loss: 0.520\n",
      "[2,  1100] loss: 0.503\n",
      "[2,  1200] loss: 0.513\n",
      "[2,  1300] loss: 0.471\n",
      "Finished Training\n",
      "Accuracy: 83 %\n",
      "Batch size:  100\n",
      "[1,   100] loss: 0.426\n",
      "[1,   200] loss: 0.408\n",
      "[1,   300] loss: 0.421\n",
      "[1,   400] loss: 0.408\n",
      "[1,   500] loss: 0.396\n",
      "[1,   600] loss: 0.422\n",
      "[2,   100] loss: 0.371\n",
      "[2,   200] loss: 0.355\n",
      "[2,   300] loss: 0.364\n",
      "[2,   400] loss: 0.356\n",
      "[2,   500] loss: 0.349\n",
      "[2,   600] loss: 0.345\n",
      "Finished Training\n",
      "Accuracy: 86 %\n",
      "Batch size:  200\n",
      "[1,   100] loss: 0.295\n",
      "[1,   200] loss: 0.301\n",
      "[1,   300] loss: 0.306\n",
      "[2,   100] loss: 0.272\n",
      "[2,   200] loss: 0.281\n",
      "[2,   300] loss: 0.273\n",
      "Finished Training\n",
      "Accuracy: 87 %\n",
      "Batch size:  500\n",
      "[1,   100] loss: 0.240\n",
      "[2,   100] loss: 0.231\n",
      "Finished Training\n",
      "Accuracy: 88 %\n",
      "Batch size:  1000\n",
      "Finished Training\n",
      "Accuracy: 88 %\n"
     ]
    }
   ],
   "source": [
    "for batch in batch_size:\n",
    "    trainloader, testloader, classes, dataset_sizes=get_dataset('images',data_transforms, batch)\n",
    "    \n",
    "    print('Batch size: ', batch)\n",
    "    \n",
    "    for epoch in range(2): \n",
    "\n",
    "        running_loss = 0.0\n",
    "        for i, data in enumerate(trainloader, 0):\n",
    "            inputs, labels = data\n",
    "\n",
    "            optimizer.zero_grad()\n",
    "\n",
    "            outputs = net(inputs)\n",
    "            loss = criterion(outputs, labels)\n",
    "            loss.backward()\n",
    "            optimizer.step()\n",
    "\n",
    "            running_loss += loss.item()\n",
    "            if i % 100 == 99:\n",
    "                print('[%d, %5d] loss: %.3f' %\n",
    "                      (epoch + 1, i + 1, running_loss / 100))\n",
    "                running_loss = 0.0\n",
    "     \n",
    "    print('Finished Training')\n",
    "    \n",
    "    dataiter = iter(testloader)\n",
    "    images, labels = dataiter.next()\n",
    "    \n",
    "    correct = 0\n",
    "    total = 0\n",
    "    with torch.no_grad():\n",
    "        for data in testloader:\n",
    "            images, labels = data\n",
    "            outputs = net(images)\n",
    "            _, predicted = torch.max(outputs.data, 1)\n",
    "            total += labels.size(0)\n",
    "            correct += (predicted == labels).sum().item()\n",
    "\n",
    "    acc.append(100 * correct / total)\n",
    "            \n",
    "    print('Accuracy: %d %%' % (100 * correct / total))"
   ]
  },
  {
   "cell_type": "code",
   "execution_count": 18,
   "metadata": {},
   "outputs": [
    {
     "name": "stdout",
     "output_type": "stream",
     "text": [
      "Learning rate = 0.0001  --- 3 layers\n"
     ]
    },
    {
     "data": {
      "text/plain": [
       "[<matplotlib.lines.Line2D at 0x2053d586208>]"
      ]
     },
     "execution_count": 18,
     "metadata": {},
     "output_type": "execute_result"
    },
    {
     "data": {
      "image/png": "[encoded data removed]",
      "text/plain": [
       "<Figure size 432x288 with 1 Axes>"
      ]
     },
     "metadata": {
      "needs_background": "light"
     },
     "output_type": "display_data"
    }
   ],
   "source": [
    "print(\"Learning rate = 0.0001  --- 3 layers\")\n",
    "plt.plot(batch_size, acc)"
   ]
  },
  {
   "cell_type": "code",
   "execution_count": 19,
   "metadata": {},
   "outputs": [],
   "source": [
    "optimizer = torch.optim.Adam(net.parameters(), lr=0.0005, betas=(0.9, 0.99))"
   ]
  },
  {
   "cell_type": "code",
   "execution_count": 20,
   "metadata": {},
   "outputs": [
    {
     "name": "stdout",
     "output_type": "stream",
     "text": [
      "Batch size:  50\n",
      "[1,   100] loss: 0.390\n",
      "[1,   200] loss: 0.420\n",
      "[1,   300] loss: 0.426\n",
      "[1,   400] loss: 0.447\n",
      "[1,   500] loss: 0.446\n",
      "[1,   600] loss: 0.448\n",
      "[1,   700] loss: 0.454\n",
      "[1,   800] loss: 0.440\n",
      "[1,   900] loss: 0.415\n",
      "[1,  1000] loss: 0.411\n",
      "[1,  1100] loss: 0.423\n",
      "[1,  1200] loss: 0.411\n",
      "[1,  1300] loss: 0.410\n",
      "[2,   100] loss: 0.325\n",
      "[2,   200] loss: 0.336\n",
      "[2,   300] loss: 0.336\n",
      "[2,   400] loss: 0.345\n",
      "[2,   500] loss: 0.330\n",
      "[2,   600] loss: 0.326\n",
      "[2,   700] loss: 0.337\n",
      "[2,   800] loss: 0.359\n",
      "[2,   900] loss: 0.317\n",
      "[2,  1000] loss: 0.337\n",
      "[2,  1100] loss: 0.335\n",
      "[2,  1200] loss: 0.354\n",
      "[2,  1300] loss: 0.341\n",
      "Finished Training\n",
      "Accuracy: 86 %\n",
      "Batch size:  100\n",
      "[1,   100] loss: 0.208\n",
      "[1,   200] loss: 0.197\n",
      "[1,   300] loss: 0.218\n",
      "[1,   400] loss: 0.219\n",
      "[1,   500] loss: 0.236\n",
      "[1,   600] loss: 0.222\n",
      "[2,   100] loss: 0.169\n",
      "[2,   200] loss: 0.178\n",
      "[2,   300] loss: 0.174\n",
      "[2,   400] loss: 0.184\n",
      "[2,   500] loss: 0.186\n",
      "[2,   600] loss: 0.203\n",
      "Finished Training\n",
      "Accuracy: 88 %\n",
      "Batch size:  200\n",
      "[1,   100] loss: 0.111\n",
      "[1,   200] loss: 0.116\n",
      "[1,   300] loss: 0.125\n",
      "[2,   100] loss: 0.099\n",
      "[2,   200] loss: 0.100\n",
      "[2,   300] loss: 0.118\n",
      "Finished Training\n",
      "Accuracy: 89 %\n",
      "Batch size:  500\n",
      "[1,   100] loss: 0.069\n",
      "[2,   100] loss: 0.055\n",
      "Finished Training\n",
      "Accuracy: 90 %\n",
      "Batch size:  1000\n",
      "Finished Training\n",
      "Accuracy: 89 %\n"
     ]
    }
   ],
   "source": [
    "for batch in batch_size:\n",
    "    trainloader, testloader, classes, dataset_sizes=get_dataset('images',data_transforms, batch)\n",
    "    \n",
    "    print('Batch size: ', batch)\n",
    "    \n",
    "    for epoch in range(2): \n",
    "\n",
    "        running_loss = 0.0\n",
    "        for i, data in enumerate(trainloader, 0):\n",
    "            inputs, labels = data\n",
    "\n",
    "            optimizer.zero_grad()\n",
    "\n",
    "            outputs = net(inputs)\n",
    "            loss = criterion(outputs, labels)\n",
    "            loss.backward()\n",
    "            optimizer.step()\n",
    "\n",
    "            running_loss += loss.item()\n",
    "            if i % 100 == 99:\n",
    "                print('[%d, %5d] loss: %.3f' %\n",
    "                      (epoch + 1, i + 1, running_loss / 100))\n",
    "                running_loss = 0.0\n",
    "     \n",
    "    print('Finished Training')\n",
    "    \n",
    "    dataiter = iter(testloader)\n",
    "    images, labels = dataiter.next()\n",
    "    \n",
    "    correct = 0\n",
    "    total = 0\n",
    "    with torch.no_grad():\n",
    "        for data in testloader:\n",
    "            images, labels = data\n",
    "            outputs = net(images)\n",
    "            _, predicted = torch.max(outputs.data, 1)\n",
    "            total += labels.size(0)\n",
    "            correct += (predicted == labels).sum().item()\n",
    "\n",
    "    error.append(100 * correct / total)\n",
    "            \n",
    "    print('Accuracy: %d %%' % (100 * correct / total))"
   ]
  },
  {
   "cell_type": "code",
   "execution_count": 21,
   "metadata": {},
   "outputs": [
    {
     "name": "stdout",
     "output_type": "stream",
     "text": [
      "Learning rate = 0.0005  --- 3 layers\n"
     ]
    },
    {
     "data": {
      "text/plain": [
       "[<matplotlib.lines.Line2D at 0x2053cc90e48>]"
      ]
     },
     "execution_count": 21,
     "metadata": {},
     "output_type": "execute_result"
    },
    {
     "data": {
      "image/png": "[encoded data removed]",
      "text/plain": [
       "<Figure size 432x288 with 1 Axes>"
      ]
     },
     "metadata": {
      "needs_background": "light"
     },
     "output_type": "display_data"
    }
   ],
   "source": [
    "print(\"Learning rate = 0.0005  --- 3 layers\")\n",
    "plt.plot(batch_size, error)"
   ]
  },
  {
   "cell_type": "markdown",
   "metadata": {},
   "source": [
    "Для 3х скрытых слоев лучшими значениями оказались learning_rate = 0.0005 и batch_size = 500. Можно объяснить это так: чем мельче кусок данных, на котором мы обучаем модель, тем лучше она обучается. Но важно не переобучится (упасть в локальный минимум?), поэтому learning_rate = 0.0005. "
   ]
  },
  {
   "cell_type": "markdown",
   "metadata": {},
   "source": [
    "### Посмотрим на лучшую нейронную сеть с другими функциями активации. "
   ]
  },
  {
   "cell_type": "code",
   "execution_count": 22,
   "metadata": {},
   "outputs": [],
   "source": [
    "class Net2(nn.Module):\n",
    "    def __init__(self):\n",
    "        super(Net2, self).__init__()\n",
    "        self.cnn_layers = nn.Sequential(\n",
    "            nn.Flatten(),\n",
    "            nn.BatchNorm1d(2352),\n",
    "            nn.Linear(28*28*3, 300),\n",
    "            nn.Sigmoid(),\n",
    "            nn.Linear(300, 200),\n",
    "            nn.Sigmoid(),\n",
    "            nn.Linear(200, 26),\n",
    "            nn.LogSoftmax(dim=1))\n",
    "        \n",
    "    def forward(self, x):\n",
    "        x = self.cnn_layers(x)\n",
    "        return x\n",
    "    \n",
    "net2 = Net2()"
   ]
  },
  {
   "cell_type": "code",
   "execution_count": 23,
   "metadata": {},
   "outputs": [],
   "source": [
    "trainloader, testloader, classes, dataset_sizes=get_dataset('images',data_transforms, 1000)"
   ]
  },
  {
   "cell_type": "code",
   "execution_count": 24,
   "metadata": {},
   "outputs": [],
   "source": [
    "optimizer = torch.optim.Adam(net2.parameters(), lr=0.0005, betas=(0.9, 0.99))"
   ]
  },
  {
   "cell_type": "code",
   "execution_count": 25,
   "metadata": {},
   "outputs": [
    {
     "name": "stdout",
     "output_type": "stream",
     "text": [
      "[1,    10] loss: 3.190\n",
      "[1,    20] loss: 3.034\n",
      "[1,    30] loss: 2.879\n",
      "[1,    40] loss: 2.721\n",
      "[1,    50] loss: 2.563\n",
      "[1,    60] loss: 2.399\n",
      "[2,    10] loss: 2.179\n",
      "[2,    20] loss: 2.046\n",
      "[2,    30] loss: 1.928\n",
      "[2,    40] loss: 1.817\n",
      "[2,    50] loss: 1.712\n",
      "[2,    60] loss: 1.634\n",
      "Finished Training\n"
     ]
    }
   ],
   "source": [
    "for epoch in range(2): \n",
    "\n",
    "    running_loss = 0.0\n",
    "    for i, data in enumerate(trainloader, 0):\n",
    "        inputs, labels = data\n",
    "\n",
    "        optimizer.zero_grad()\n",
    "\n",
    "        outputs = net2(inputs)\n",
    "        loss = criterion(outputs, labels)\n",
    "        loss.backward()\n",
    "        optimizer.step()\n",
    "\n",
    "        running_loss += loss.item()\n",
    "        if i % 10 == 9:\n",
    "            print('[%d, %5d] loss: %.3f' %\n",
    "                    (epoch + 1, i + 1, running_loss / 10))\n",
    "            running_loss = 0.0\n",
    "     \n",
    "print('Finished Training')"
   ]
  },
  {
   "cell_type": "code",
   "execution_count": 26,
   "metadata": {},
   "outputs": [
    {
     "name": "stdout",
     "output_type": "stream",
     "text": [
      "Accuracy: 62 %\n"
     ]
    }
   ],
   "source": [
    "dataiter = iter(testloader)\n",
    "images, labels = dataiter.next()\n",
    "    \n",
    "correct = 0\n",
    "total = 0\n",
    "with torch.no_grad():\n",
    "    for data in testloader:\n",
    "        images, labels = data\n",
    "        outputs = net2(images)\n",
    "        _, predicted = torch.max(outputs.data, 1)\n",
    "        total += labels.size(0)\n",
    "        correct += (predicted == labels).sum().item()\n",
    "            \n",
    "print('Accuracy: %d %%' % (100 * correct / total))"
   ]
  },
  {
   "cell_type": "code",
   "execution_count": 27,
   "metadata": {},
   "outputs": [],
   "source": [
    "class Net3(nn.Module):\n",
    "    def __init__(self):\n",
    "        super(Net3, self).__init__()\n",
    "        self.cnn_layers = nn.Sequential(\n",
    "            nn.Flatten(),\n",
    "            nn.BatchNorm1d(2352),\n",
    "            nn.Linear(28*28*3, 300),\n",
    "            nn.Tanh(),\n",
    "            nn.Linear(300, 200),\n",
    "            nn.Tanh(),\n",
    "            nn.Linear(200, 26),\n",
    "            nn.LogSoftmax(dim=1))\n",
    "        \n",
    "    def forward(self, x):\n",
    "        x = self.cnn_layers(x)\n",
    "        return x\n",
    "    \n",
    "net3 = Net3()"
   ]
  },
  {
   "cell_type": "code",
   "execution_count": 28,
   "metadata": {},
   "outputs": [],
   "source": [
    "optimizer = torch.optim.Adam(net3.parameters(), lr=0.0005, betas=(0.9, 0.99))"
   ]
  },
  {
   "cell_type": "code",
   "execution_count": 29,
   "metadata": {},
   "outputs": [
    {
     "name": "stdout",
     "output_type": "stream",
     "text": [
      "[1,    10] loss: 2.537\n",
      "[1,    20] loss: 1.838\n",
      "[1,    30] loss: 1.504\n",
      "[1,    40] loss: 1.293\n",
      "[1,    50] loss: 1.176\n",
      "[1,    60] loss: 1.053\n",
      "[2,    10] loss: 0.936\n",
      "[2,    20] loss: 0.894\n",
      "[2,    30] loss: 0.846\n",
      "[2,    40] loss: 0.801\n",
      "[2,    50] loss: 0.787\n",
      "[2,    60] loss: 0.762\n",
      "Finished Training\n"
     ]
    }
   ],
   "source": [
    "for epoch in range(2): \n",
    "\n",
    "    running_loss = 0.0\n",
    "    for i, data in enumerate(trainloader, 0):\n",
    "        inputs, labels = data\n",
    "\n",
    "        optimizer.zero_grad()\n",
    "\n",
    "        outputs = net3(inputs)\n",
    "        loss = criterion(outputs, labels)\n",
    "        loss.backward()\n",
    "        optimizer.step()\n",
    "\n",
    "        running_loss += loss.item()\n",
    "        if i % 10 == 9:\n",
    "            print('[%d, %5d] loss: %.3f' %\n",
    "                    (epoch + 1, i + 1, running_loss / 10))\n",
    "            running_loss = 0.0\n",
    "     \n",
    "print('Finished Training')"
   ]
  },
  {
   "cell_type": "code",
   "execution_count": 30,
   "metadata": {},
   "outputs": [
    {
     "name": "stdout",
     "output_type": "stream",
     "text": [
      "Accuracy: 78 %\n"
     ]
    }
   ],
   "source": [
    "dataiter = iter(testloader)\n",
    "images, labels = dataiter.next()\n",
    "    \n",
    "correct = 0\n",
    "total = 0\n",
    "with torch.no_grad():\n",
    "    for data in testloader:\n",
    "        images, labels = data\n",
    "        outputs = net3(images)\n",
    "        _, predicted = torch.max(outputs.data, 1)\n",
    "        total += labels.size(0)\n",
    "        correct += (predicted == labels).sum().item()\n",
    "            \n",
    "print('Accuracy: %d %%' % (100 * correct / total))"
   ]
  },
  {
   "cell_type": "markdown",
   "metadata": {},
   "source": [
    "Как мы видим, что если изменим функцию активации в нейронной сети с подобранными параметрами, то accuracy очень сильно снижается, что и логично, так как ReLU и сигмоида с тангенсом имеют абсолютно разные алгоритмы введения нелинейности, что могло повлиять на результат. "
   ]
  },
  {
   "cell_type": "markdown",
   "metadata": {},
   "source": [
    "### Посмотрим на модель с подобранными параметрами с другим числом нейронов."
   ]
  },
  {
   "cell_type": "code",
   "execution_count": 31,
   "metadata": {},
   "outputs": [],
   "source": [
    "class Net4(nn.Module):\n",
    "    def __init__(self):\n",
    "        super(Net4, self).__init__()\n",
    "        self.cnn_layers = nn.Sequential(\n",
    "            nn.Flatten(),\n",
    "            nn.BatchNorm1d(2352),\n",
    "            nn.Linear(28*28*3, 500),\n",
    "            nn.ReLU(),\n",
    "            nn.Linear(500, 250),\n",
    "            nn.ReLU(),\n",
    "            nn.Linear(250, 26),\n",
    "            nn.LogSoftmax(dim=1))\n",
    "        \n",
    "    def forward(self, x):\n",
    "        x = self.cnn_layers(x)\n",
    "        return x\n",
    "    \n",
    "net4 = Net4()"
   ]
  },
  {
   "cell_type": "code",
   "execution_count": 32,
   "metadata": {},
   "outputs": [],
   "source": [
    "optimizer = torch.optim.Adam(net4.parameters(), lr=0.0005, betas=(0.9, 0.99))"
   ]
  },
  {
   "cell_type": "code",
   "execution_count": 33,
   "metadata": {},
   "outputs": [
    {
     "name": "stdout",
     "output_type": "stream",
     "text": [
      "[1,    10] loss: 2.647\n",
      "[1,    20] loss: 1.480\n",
      "[1,    30] loss: 1.088\n",
      "[1,    40] loss: 0.880\n",
      "[1,    50] loss: 0.797\n",
      "[1,    60] loss: 0.702\n",
      "[2,    10] loss: 0.574\n",
      "[2,    20] loss: 0.566\n",
      "[2,    30] loss: 0.549\n",
      "[2,    40] loss: 0.509\n",
      "[2,    50] loss: 0.491\n",
      "[2,    60] loss: 0.486\n",
      "Finished Training\n"
     ]
    }
   ],
   "source": [
    "for epoch in range(2): \n",
    "\n",
    "    running_loss = 0.0\n",
    "    for i, data in enumerate(trainloader, 0):\n",
    "        inputs, labels = data\n",
    "\n",
    "        optimizer.zero_grad()\n",
    "\n",
    "        outputs = net4(inputs)\n",
    "        loss = criterion(outputs, labels)\n",
    "        loss.backward()\n",
    "        optimizer.step()\n",
    "\n",
    "        running_loss += loss.item()\n",
    "        if i % 10 == 9:\n",
    "            print('[%d, %5d] loss: %.3f' %\n",
    "                    (epoch + 1, i + 1, running_loss / 10))\n",
    "            running_loss = 0.0\n",
    "     \n",
    "print('Finished Training')"
   ]
  },
  {
   "cell_type": "code",
   "execution_count": 34,
   "metadata": {},
   "outputs": [
    {
     "name": "stdout",
     "output_type": "stream",
     "text": [
      "Accuracy: 84 %\n"
     ]
    }
   ],
   "source": [
    "dataiter = iter(testloader)\n",
    "images, labels = dataiter.next()\n",
    "    \n",
    "correct = 0\n",
    "total = 0\n",
    "with torch.no_grad():\n",
    "    for data in testloader:\n",
    "        images, labels = data\n",
    "        outputs = net4(images)\n",
    "        _, predicted = torch.max(outputs.data, 1)\n",
    "        total += labels.size(0)\n",
    "        correct += (predicted == labels).sum().item()\n",
    "            \n",
    "print('Accuracy: %d %%' % (100 * correct / total))"
   ]
  },
  {
   "cell_type": "markdown",
   "metadata": {},
   "source": [
    "Снова accuracy стала ниже, но уже не так сильно. Попробуем взять немного другие."
   ]
  },
  {
   "cell_type": "code",
   "execution_count": 35,
   "metadata": {},
   "outputs": [],
   "source": [
    "class Net5(nn.Module):\n",
    "    def __init__(self):\n",
    "        super(Net5, self).__init__()\n",
    "        self.cnn_layers = nn.Sequential(\n",
    "            nn.Flatten(),\n",
    "            nn.BatchNorm1d(2352),\n",
    "            nn.Linear(28*28*3, 512),\n",
    "            nn.ReLU(),\n",
    "            nn.Linear(512, 512),\n",
    "            nn.ReLU(),\n",
    "            nn.Linear(512, 26),\n",
    "            nn.LogSoftmax(dim=1))\n",
    "        \n",
    "    def forward(self, x):\n",
    "        x = self.cnn_layers(x)\n",
    "        return x\n",
    "    \n",
    "net5 = Net5()"
   ]
  },
  {
   "cell_type": "code",
   "execution_count": 36,
   "metadata": {},
   "outputs": [],
   "source": [
    "err = []"
   ]
  },
  {
   "cell_type": "code",
   "execution_count": 37,
   "metadata": {},
   "outputs": [],
   "source": [
    "optimizer = torch.optim.Adam(net5.parameters(), lr=0.0005, betas=(0.9, 0.99))"
   ]
  },
  {
   "cell_type": "code",
   "execution_count": 63,
   "metadata": {},
   "outputs": [
    {
     "name": "stdout",
     "output_type": "stream",
     "text": [
      "Finished Training\n",
      "Accuracy: 91 %\n"
     ]
    }
   ],
   "source": [
    "for epoch in range(2): \n",
    "\n",
    "    running_loss = 0.0\n",
    "    for i, data in enumerate(trainloader, 0):\n",
    "        inputs, labels = data\n",
    "\n",
    "        optimizer.zero_grad()\n",
    "\n",
    "        outputs = net5(inputs)\n",
    "        loss = criterion(outputs, labels)\n",
    "        loss.backward()\n",
    "        optimizer.step()\n",
    "\n",
    "        running_loss += loss.item()\n",
    "        if i % 100 == 99:\n",
    "            print('[%d, %5d] loss: %.3f' %\n",
    "                    (epoch + 1, i + 1, running_loss / 100))\n",
    "            running_loss = 0.0\n",
    "     \n",
    "print('Finished Training')\n",
    "    \n",
    "dataiter = iter(testloader)\n",
    "images, labels = dataiter.next()\n",
    "    \n",
    "correct = 0\n",
    "total = 0\n",
    "with torch.no_grad():\n",
    "    for data in testloader:\n",
    "        images, labels = data\n",
    "        outputs = net5(images)\n",
    "        _, predicted = torch.max(outputs.data, 1)\n",
    "        total += labels.size(0)\n",
    "        correct += (predicted == labels).sum().item()\n",
    "\n",
    "err.append(100 * correct / total)\n",
    "            \n",
    "print('Accuracy: %d %%' % (100 * correct / total))"
   ]
  },
  {
   "cell_type": "markdown",
   "metadata": {},
   "source": [
    "Видим, что accuracy стала значительно лучше."
   ]
  },
  {
   "cell_type": "markdown",
   "metadata": {},
   "source": [
    "### Посмотрим на модель с подобранными параметрами с функциями регуляризации."
   ]
  },
  {
   "cell_type": "code",
   "execution_count": 112,
   "metadata": {},
   "outputs": [],
   "source": [
    "weights = [0.0001, 0.0005, 0.005, 0.5]"
   ]
  },
  {
   "cell_type": "code",
   "execution_count": 113,
   "metadata": {},
   "outputs": [],
   "source": [
    "trainloader, testloader, classes, dataset_sizes=get_dataset('images',data_transforms, 1000)"
   ]
  },
  {
   "cell_type": "code",
   "execution_count": 117,
   "metadata": {},
   "outputs": [
    {
     "name": "stdout",
     "output_type": "stream",
     "text": [
      "Weight_decay:  0.0001\n",
      "[1,    10] loss: 2.306\n",
      "[1,    20] loss: 1.438\n",
      "[1,    30] loss: 1.086\n",
      "[1,    40] loss: 0.920\n",
      "[1,    50] loss: 0.821\n",
      "[1,    60] loss: 0.739\n",
      "[2,    10] loss: 0.627\n",
      "[2,    20] loss: 0.586\n",
      "[2,    30] loss: 0.550\n",
      "[2,    40] loss: 0.518\n",
      "[2,    50] loss: 0.510\n",
      "[2,    60] loss: 0.492\n",
      "Finished Training\n",
      "Accuracy: 84 %\n",
      "Weight_decay:  0.0005\n",
      "[1,    10] loss: 0.449\n",
      "[1,    20] loss: 0.415\n",
      "[1,    30] loss: 0.442\n",
      "[1,    40] loss: 0.418\n",
      "[1,    50] loss: 0.389\n",
      "[1,    60] loss: 0.399\n",
      "[2,    10] loss: 0.346\n",
      "[2,    20] loss: 0.336\n",
      "[2,    30] loss: 0.345\n",
      "[2,    40] loss: 0.339\n",
      "[2,    50] loss: 0.338\n",
      "[2,    60] loss: 0.333\n",
      "Finished Training\n",
      "Accuracy: 87 %\n",
      "Weight_decay:  0.005\n",
      "[1,    10] loss: 0.307\n",
      "[1,    20] loss: 0.332\n",
      "[1,    30] loss: 0.349\n",
      "[1,    40] loss: 0.348\n",
      "[1,    50] loss: 0.359\n",
      "[1,    60] loss: 0.375\n",
      "[2,    10] loss: 0.341\n",
      "[2,    20] loss: 0.355\n",
      "[2,    30] loss: 0.358\n",
      "[2,    40] loss: 0.367\n",
      "[2,    50] loss: 0.365\n",
      "[2,    60] loss: 0.372\n",
      "Finished Training\n",
      "Accuracy: 87 %\n",
      "Weight_decay:  0.5\n",
      "[1,    10] loss: 0.469\n",
      "[1,    20] loss: 1.025\n",
      "[1,    30] loss: 1.596\n",
      "[1,    40] loss: 1.999\n",
      "[1,    50] loss: 2.287\n",
      "[1,    60] loss: 2.529\n",
      "[2,    10] loss: 2.792\n",
      "[2,    20] loss: 2.926\n",
      "[2,    30] loss: 3.028\n",
      "[2,    40] loss: 3.103\n",
      "[2,    50] loss: 3.161\n",
      "[2,    60] loss: 3.198\n",
      "Finished Training\n",
      "Accuracy: 26 %\n"
     ]
    }
   ],
   "source": [
    "accur = []\n",
    "\n",
    "for weight in weights:\n",
    "    optimizer = torch.optim.Adam(net.parameters(), lr=0.0005, betas=(0.9, 0.99), weight_decay=weight)\n",
    "    print('Weight_decay: ', weight)\n",
    "    for epoch in range(2): \n",
    "\n",
    "        running_loss = 0.0\n",
    "        for i, data in enumerate(trainloader, 0):\n",
    "            inputs, labels = data\n",
    "\n",
    "            optimizer.zero_grad()\n",
    "\n",
    "            outputs = net(inputs)\n",
    "            loss = criterion(outputs, labels)\n",
    "            loss.backward()\n",
    "            optimizer.step()\n",
    "\n",
    "            running_loss += loss.item()\n",
    "            if i % 10 == 9:\n",
    "                print('[%d, %5d] loss: %.3f' %\n",
    "                        (epoch + 1, i + 1, running_loss / 10))\n",
    "                running_loss = 0.0\n",
    "     \n",
    "    print('Finished Training')\n",
    "    \n",
    "    dataiter = iter(testloader)\n",
    "    images, labels = dataiter.next()\n",
    "    \n",
    "    correct = 0\n",
    "    total = 0\n",
    "    with torch.no_grad():\n",
    "        for data in testloader:\n",
    "            images, labels = data\n",
    "            outputs = net(images)\n",
    "            _, predicted = torch.max(outputs.data, 1)\n",
    "            total += labels.size(0)\n",
    "            correct += (predicted == labels).sum().item()\n",
    "    \n",
    "    accur.append(100 * correct / total)\n",
    "            \n",
    "    print('Accuracy: %d %%' % (100 * correct / total))"
   ]
  },
  {
   "cell_type": "code",
   "execution_count": 118,
   "metadata": {},
   "outputs": [
    {
     "name": "stdout",
     "output_type": "stream",
     "text": [
      "Learning rate = 0.0005, batch size = 1000  --- 3 layers\n"
     ]
    },
    {
     "data": {
      "text/plain": [
       "[<matplotlib.lines.Line2D at 0x2053cc93448>]"
      ]
     },
     "execution_count": 118,
     "metadata": {},
     "output_type": "execute_result"
    },
    {
     "data": {
      "image/png": "[encoded data removed]",
      "text/plain": [
       "<Figure size 432x288 with 1 Axes>"
      ]
     },
     "metadata": {
      "needs_background": "light"
     },
     "output_type": "display_data"
    }
   ],
   "source": [
    "print(\"Learning rate = 0.0005, batch size = 1000  --- 3 layers\")\n",
    "plt.plot(weights, accur)"
   ]
  },
  {
   "cell_type": "markdown",
   "metadata": {},
   "source": [
    "## 2 слоя"
   ]
  },
  {
   "cell_type": "code",
   "execution_count": 78,
   "metadata": {},
   "outputs": [],
   "source": [
    "class Net_(nn.Module):\n",
    "    def __init__(self):\n",
    "        super(Net_, self).__init__()\n",
    "        self.cnn_layers = nn.Sequential(\n",
    "            nn.Flatten(),\n",
    "            nn.BatchNorm1d(2352),\n",
    "            nn.Linear(28*28*3, 256),\n",
    "            nn.ReLU(),\n",
    "            nn.Linear(256, 26),\n",
    "            nn.ReLU(),\n",
    "            nn.LogSoftmax(dim=1))\n",
    "        \n",
    "    def forward(self, x):\n",
    "        x = self.cnn_layers(x)\n",
    "        return x\n",
    "    \n",
    "net_ = Net_()"
   ]
  },
  {
   "cell_type": "code",
   "execution_count": 79,
   "metadata": {},
   "outputs": [],
   "source": [
    "criterion = nn.CrossEntropyLoss()  \n",
    "\n",
    "optimizer = torch.optim.Adam(net_.parameters(), lr=0.0001, betas=(0.9, 0.99))"
   ]
  },
  {
   "cell_type": "code",
   "execution_count": 80,
   "metadata": {},
   "outputs": [],
   "source": [
    "acc_ = []"
   ]
  },
  {
   "cell_type": "code",
   "execution_count": 81,
   "metadata": {},
   "outputs": [
    {
     "name": "stdout",
     "output_type": "stream",
     "text": [
      "Batch size:  50\n",
      "[1,   100] loss: 2.642\n",
      "[1,   200] loss: 1.799\n",
      "[1,   300] loss: 1.406\n",
      "[1,   400] loss: 1.224\n",
      "[1,   500] loss: 1.145\n",
      "[1,   600] loss: 1.059\n",
      "[1,   700] loss: 1.008\n",
      "[1,   800] loss: 0.986\n",
      "[1,   900] loss: 0.954\n",
      "[1,  1000] loss: 0.879\n",
      "[1,  1100] loss: 0.909\n",
      "[1,  1200] loss: 0.853\n",
      "[1,  1300] loss: 0.847\n",
      "[2,   100] loss: 0.816\n",
      "[2,   200] loss: 0.776\n",
      "[2,   300] loss: 0.747\n",
      "[2,   400] loss: 0.751\n",
      "[2,   500] loss: 0.703\n",
      "[2,   600] loss: 0.741\n",
      "[2,   700] loss: 0.739\n",
      "[2,   800] loss: 0.714\n",
      "[2,   900] loss: 0.703\n",
      "[2,  1000] loss: 0.690\n",
      "[2,  1100] loss: 0.709\n",
      "[2,  1200] loss: 0.657\n",
      "[2,  1300] loss: 0.653\n",
      "Finished Training\n",
      "Accuracy: 79 %\n",
      "Batch size:  100\n",
      "[1,   100] loss: 0.622\n",
      "[1,   200] loss: 0.589\n",
      "[1,   300] loss: 0.587\n",
      "[1,   400] loss: 0.597\n",
      "[1,   500] loss: 0.575\n",
      "[1,   600] loss: 0.579\n",
      "[2,   100] loss: 0.551\n",
      "[2,   200] loss: 0.524\n",
      "[2,   300] loss: 0.554\n",
      "[2,   400] loss: 0.539\n",
      "[2,   500] loss: 0.519\n",
      "[2,   600] loss: 0.517\n",
      "Finished Training\n",
      "Accuracy: 82 %\n",
      "Batch size:  200\n",
      "[1,   100] loss: 0.474\n",
      "[1,   200] loss: 0.480\n",
      "[1,   300] loss: 0.482\n",
      "[2,   100] loss: 0.441\n",
      "[2,   200] loss: 0.466\n",
      "[2,   300] loss: 0.463\n",
      "Finished Training\n",
      "Accuracy: 83 %\n",
      "Batch size:  500\n",
      "[1,   100] loss: 0.423\n",
      "[2,   100] loss: 0.411\n",
      "Finished Training\n",
      "Accuracy: 83 %\n",
      "Batch size:  1000\n",
      "Finished Training\n",
      "Accuracy: 83 %\n"
     ]
    }
   ],
   "source": [
    "for batch in batch_size:\n",
    "    trainloader, testloader, classes, dataset_sizes=get_dataset('images',data_transforms, batch)\n",
    "    \n",
    "    print('Batch size: ', batch)\n",
    "    \n",
    "    for epoch in range(2): \n",
    "\n",
    "        running_loss = 0.0\n",
    "        for i, data in enumerate(trainloader, 0):\n",
    "            inputs, labels = data\n",
    "\n",
    "            optimizer.zero_grad()\n",
    "\n",
    "            outputs = net_(inputs)\n",
    "            loss = criterion(outputs, labels)\n",
    "            loss.backward()\n",
    "            optimizer.step()\n",
    "\n",
    "            running_loss += loss.item()\n",
    "            if i % 100 == 99:\n",
    "                print('[%d, %5d] loss: %.3f' %\n",
    "                      (epoch + 1, i + 1, running_loss / 100))\n",
    "                running_loss = 0.0\n",
    "     \n",
    "    print('Finished Training')\n",
    "    \n",
    "    dataiter = iter(testloader)\n",
    "    images, labels = dataiter.next()\n",
    "    \n",
    "    correct = 0\n",
    "    total = 0\n",
    "    with torch.no_grad():\n",
    "        for data in testloader:\n",
    "            images, labels = data\n",
    "            outputs = net_(images)\n",
    "            _, predicted = torch.max(outputs.data, 1)\n",
    "            total += labels.size(0)\n",
    "            correct += (predicted == labels).sum().item()\n",
    "\n",
    "    acc_.append(100 * correct / total)\n",
    "            \n",
    "    print('Accuracy: %d %%' % (100 * correct / total))"
   ]
  },
  {
   "cell_type": "code",
   "execution_count": 82,
   "metadata": {},
   "outputs": [
    {
     "name": "stdout",
     "output_type": "stream",
     "text": [
      "Learning rate = 0.0001  --- 2 layers\n"
     ]
    },
    {
     "data": {
      "text/plain": [
       "[<matplotlib.lines.Line2D at 0x2053c754208>]"
      ]
     },
     "execution_count": 82,
     "metadata": {},
     "output_type": "execute_result"
    },
    {
     "data": {
      "image/png": "[encoded data removed]",
      "text/plain": [
       "<Figure size 432x288 with 1 Axes>"
      ]
     },
     "metadata": {
      "needs_background": "light"
     },
     "output_type": "display_data"
    }
   ],
   "source": [
    "print(\"Learning rate = 0.0001  --- 2 layers\")\n",
    "plt.plot(batch_size, acc_)"
   ]
  },
  {
   "cell_type": "code",
   "execution_count": 83,
   "metadata": {},
   "outputs": [],
   "source": [
    "optimizer = torch.optim.Adam(net_.parameters(), lr=0.0005, betas=(0.9, 0.99))"
   ]
  },
  {
   "cell_type": "code",
   "execution_count": 84,
   "metadata": {},
   "outputs": [],
   "source": [
    "error_ = []"
   ]
  },
  {
   "cell_type": "code",
   "execution_count": 85,
   "metadata": {},
   "outputs": [
    {
     "name": "stdout",
     "output_type": "stream",
     "text": [
      "Batch size:  50\n",
      "[1,   100] loss: 0.516\n",
      "[1,   200] loss: 0.584\n",
      "[1,   300] loss: 0.544\n",
      "[1,   400] loss: 0.599\n",
      "[1,   500] loss: 0.589\n",
      "[1,   600] loss: 0.595\n",
      "[1,   700] loss: 0.568\n",
      "[1,   800] loss: 0.543\n",
      "[1,   900] loss: 0.572\n",
      "[1,  1000] loss: 0.541\n",
      "[1,  1100] loss: 0.568\n",
      "[1,  1200] loss: 0.540\n",
      "[1,  1300] loss: 0.540\n",
      "[2,   100] loss: 0.435\n",
      "[2,   200] loss: 0.475\n",
      "[2,   300] loss: 0.446\n",
      "[2,   400] loss: 0.481\n",
      "[2,   500] loss: 0.510\n",
      "[2,   600] loss: 0.488\n",
      "[2,   700] loss: 0.510\n",
      "[2,   800] loss: 0.483\n",
      "[2,   900] loss: 0.498\n",
      "[2,  1000] loss: 0.487\n",
      "[2,  1100] loss: 0.500\n",
      "[2,  1200] loss: 0.502\n",
      "[2,  1300] loss: 0.520\n",
      "Finished Training\n",
      "Accuracy: 82 %\n",
      "Batch size:  100\n",
      "[1,   100] loss: 0.374\n",
      "[1,   200] loss: 0.365\n",
      "[1,   300] loss: 0.362\n",
      "[1,   400] loss: 0.367\n",
      "[1,   500] loss: 0.384\n",
      "[1,   600] loss: 0.371\n",
      "[2,   100] loss: 0.318\n",
      "[2,   200] loss: 0.330\n",
      "[2,   300] loss: 0.327\n",
      "[2,   400] loss: 0.359\n",
      "[2,   500] loss: 0.365\n",
      "[2,   600] loss: 0.351\n",
      "Finished Training\n",
      "Accuracy: 83 %\n",
      "Batch size:  200\n",
      "[1,   100] loss: 0.272\n",
      "[1,   200] loss: 0.275\n",
      "[1,   300] loss: 0.285\n",
      "[2,   100] loss: 0.257\n",
      "[2,   200] loss: 0.274\n",
      "[2,   300] loss: 0.265\n",
      "Finished Training\n",
      "Accuracy: 84 %\n",
      "Batch size:  500\n",
      "[1,   100] loss: 0.231\n",
      "[2,   100] loss: 0.220\n",
      "Finished Training\n",
      "Accuracy: 85 %\n",
      "Batch size:  1000\n",
      "Finished Training\n",
      "Accuracy: 85 %\n"
     ]
    }
   ],
   "source": [
    "for batch in batch_size:\n",
    "    trainloader, testloader, classes, dataset_sizes=get_dataset('images',data_transforms, batch)\n",
    "    \n",
    "    print('Batch size: ', batch)\n",
    "    \n",
    "    for epoch in range(2): \n",
    "\n",
    "        running_loss = 0.0\n",
    "        for i, data in enumerate(trainloader, 0):\n",
    "            inputs, labels = data\n",
    "\n",
    "            optimizer.zero_grad()\n",
    "\n",
    "            outputs = net_(inputs)\n",
    "            loss = criterion(outputs, labels)\n",
    "            loss.backward()\n",
    "            optimizer.step()\n",
    "\n",
    "            running_loss += loss.item()\n",
    "            if i % 100 == 99:\n",
    "                print('[%d, %5d] loss: %.3f' %\n",
    "                      (epoch + 1, i + 1, running_loss / 100))\n",
    "                running_loss = 0.0\n",
    "     \n",
    "    print('Finished Training')\n",
    "    \n",
    "    dataiter = iter(testloader)\n",
    "    images, labels = dataiter.next()\n",
    "    \n",
    "    correct = 0\n",
    "    total = 0\n",
    "    with torch.no_grad():\n",
    "        for data in testloader:\n",
    "            images, labels = data\n",
    "            outputs = net_(images)\n",
    "            _, predicted = torch.max(outputs.data, 1)\n",
    "            total += labels.size(0)\n",
    "            correct += (predicted == labels).sum().item()\n",
    "\n",
    "    error_.append(100 * correct / total)\n",
    "            \n",
    "    print('Accuracy: %d %%' % (100 * correct / total))"
   ]
  },
  {
   "cell_type": "code",
   "execution_count": 86,
   "metadata": {},
   "outputs": [
    {
     "name": "stdout",
     "output_type": "stream",
     "text": [
      "Learning rate = 0.0005  --- 2 layers\n"
     ]
    },
    {
     "data": {
      "text/plain": [
       "[<matplotlib.lines.Line2D at 0x2053f22ea48>]"
      ]
     },
     "execution_count": 86,
     "metadata": {},
     "output_type": "execute_result"
    },
    {
     "data": {
      "image/png": "[encoded data removed]",
      "text/plain": [
       "<Figure size 432x288 with 1 Axes>"
      ]
     },
     "metadata": {
      "needs_background": "light"
     },
     "output_type": "display_data"
    }
   ],
   "source": [
    "print(\"Learning rate = 0.0005  --- 2 layers\")\n",
    "plt.plot(batch_size, error_)"
   ]
  },
  {
   "cell_type": "markdown",
   "metadata": {},
   "source": [
    "Лучший результат снова при batch_size = 1000 и learning_rate = 0.0005."
   ]
  },
  {
   "cell_type": "markdown",
   "metadata": {},
   "source": [
    "### Посмотрим на лучшую нейронную сеть с другими функциями активации. "
   ]
  },
  {
   "cell_type": "code",
   "execution_count": 90,
   "metadata": {},
   "outputs": [],
   "source": [
    "class Net2_(nn.Module):\n",
    "    def __init__(self):\n",
    "        super(Net2_, self).__init__()\n",
    "        self.cnn_layers = nn.Sequential(\n",
    "            nn.Flatten(),\n",
    "            nn.BatchNorm1d(2352),\n",
    "            nn.Linear(28*28*3, 256),\n",
    "            nn.Sigmoid(),\n",
    "            nn.Linear(256, 26),\n",
    "            nn.Sigmoid(),\n",
    "            nn.LogSoftmax(dim=1))\n",
    "        \n",
    "    def forward(self, x):\n",
    "        x = self.cnn_layers(x)\n",
    "        return x\n",
    "    \n",
    "net2_ = Net2_()"
   ]
  },
  {
   "cell_type": "code",
   "execution_count": 91,
   "metadata": {},
   "outputs": [],
   "source": [
    "trainloader, testloader, classes, dataset_sizes=get_dataset('images',data_transforms, 1000)"
   ]
  },
  {
   "cell_type": "code",
   "execution_count": 93,
   "metadata": {},
   "outputs": [],
   "source": [
    "optimizer = torch.optim.Adam(net2_.parameters(), lr=0.0005, betas=(0.9, 0.99))"
   ]
  },
  {
   "cell_type": "code",
   "execution_count": 94,
   "metadata": {},
   "outputs": [
    {
     "name": "stdout",
     "output_type": "stream",
     "text": [
      "[1,    10] loss: 3.155\n",
      "[1,    20] loss: 3.017\n",
      "[1,    30] loss: 2.944\n",
      "[1,    40] loss: 2.896\n",
      "[1,    50] loss: 2.851\n",
      "[1,    60] loss: 2.817\n",
      "[2,    10] loss: 2.771\n",
      "[2,    20] loss: 2.748\n",
      "[2,    30] loss: 2.731\n",
      "[2,    40] loss: 2.717\n",
      "[2,    50] loss: 2.702\n",
      "[2,    60] loss: 2.685\n",
      "Finished Training\n"
     ]
    }
   ],
   "source": [
    "for epoch in range(2): \n",
    "\n",
    "    running_loss = 0.0\n",
    "    for i, data in enumerate(trainloader, 0):\n",
    "        inputs, labels = data\n",
    "\n",
    "        optimizer.zero_grad()\n",
    "\n",
    "        outputs = net2_(inputs)\n",
    "        loss = criterion(outputs, labels)\n",
    "        loss.backward()\n",
    "        optimizer.step()\n",
    "\n",
    "        running_loss += loss.item()\n",
    "        if i % 10 == 9:\n",
    "            print('[%d, %5d] loss: %.3f' %\n",
    "                    (epoch + 1, i + 1, running_loss / 10))\n",
    "            running_loss = 0.0\n",
    "     \n",
    "print('Finished Training')"
   ]
  },
  {
   "cell_type": "code",
   "execution_count": 95,
   "metadata": {},
   "outputs": [
    {
     "name": "stdout",
     "output_type": "stream",
     "text": [
      "Accuracy: 67 %\n"
     ]
    }
   ],
   "source": [
    "dataiter = iter(testloader)\n",
    "images, labels = dataiter.next()\n",
    "    \n",
    "correct = 0\n",
    "total = 0\n",
    "with torch.no_grad():\n",
    "    for data in testloader:\n",
    "        images, labels = data\n",
    "        outputs = net2_(images)\n",
    "        _, predicted = torch.max(outputs.data, 1)\n",
    "        total += labels.size(0)\n",
    "        correct += (predicted == labels).sum().item()\n",
    "            \n",
    "print('Accuracy: %d %%' % (100 * correct / total))"
   ]
  },
  {
   "cell_type": "code",
   "execution_count": 96,
   "metadata": {},
   "outputs": [],
   "source": [
    "class Net3_(nn.Module):\n",
    "    def __init__(self):\n",
    "        super(Net3_, self).__init__()\n",
    "        self.cnn_layers = nn.Sequential(\n",
    "            nn.Flatten(),\n",
    "            nn.BatchNorm1d(2352),\n",
    "            nn.Linear(28*28*3, 256),\n",
    "            nn.Tanh(),\n",
    "            nn.Linear(256, 26),\n",
    "            nn.Tanh(),\n",
    "            nn.LogSoftmax(dim=1))\n",
    "        \n",
    "    def forward(self, x):\n",
    "        x = self.cnn_layers(x)\n",
    "        return x\n",
    "    \n",
    "net3_ = Net3_()"
   ]
  },
  {
   "cell_type": "code",
   "execution_count": 97,
   "metadata": {},
   "outputs": [],
   "source": [
    "optimizer = torch.optim.Adam(net3_.parameters(), lr=0.0005, betas=(0.9, 0.99))"
   ]
  },
  {
   "cell_type": "code",
   "execution_count": 98,
   "metadata": {},
   "outputs": [
    {
     "name": "stdout",
     "output_type": "stream",
     "text": [
      "[1,    10] loss: 2.708\n",
      "[1,    20] loss: 2.497\n",
      "[1,    30] loss: 2.443\n",
      "[1,    40] loss: 2.401\n",
      "[1,    50] loss: 2.343\n",
      "[1,    60] loss: 2.283\n",
      "[2,    10] loss: 2.170\n",
      "[2,    20] loss: 2.110\n",
      "[2,    30] loss: 2.061\n",
      "[2,    40] loss: 2.018\n",
      "[2,    50] loss: 1.983\n",
      "[2,    60] loss: 1.961\n",
      "Finished Training\n"
     ]
    }
   ],
   "source": [
    "for epoch in range(2): \n",
    "\n",
    "    running_loss = 0.0\n",
    "    for i, data in enumerate(trainloader, 0):\n",
    "        inputs, labels = data\n",
    "\n",
    "        optimizer.zero_grad()\n",
    "\n",
    "        outputs = net3_(inputs)\n",
    "        loss = criterion(outputs, labels)\n",
    "        loss.backward()\n",
    "        optimizer.step()\n",
    "\n",
    "        running_loss += loss.item()\n",
    "        if i % 10 == 9:\n",
    "            print('[%d, %5d] loss: %.3f' %\n",
    "                    (epoch + 1, i + 1, running_loss / 10))\n",
    "            running_loss = 0.0\n",
    "     \n",
    "print('Finished Training')"
   ]
  },
  {
   "cell_type": "code",
   "execution_count": 99,
   "metadata": {},
   "outputs": [
    {
     "name": "stdout",
     "output_type": "stream",
     "text": [
      "Accuracy: 72 %\n"
     ]
    }
   ],
   "source": [
    "dataiter = iter(testloader)\n",
    "images, labels = dataiter.next()\n",
    "    \n",
    "correct = 0\n",
    "total = 0\n",
    "with torch.no_grad():\n",
    "    for data in testloader:\n",
    "        images, labels = data\n",
    "        outputs = net3_(images)\n",
    "        _, predicted = torch.max(outputs.data, 1)\n",
    "        total += labels.size(0)\n",
    "        correct += (predicted == labels).sum().item()\n",
    "            \n",
    "print('Accuracy: %d %%' % (100 * correct / total))"
   ]
  },
  {
   "cell_type": "markdown",
   "metadata": {},
   "source": [
    "### Посмотрим на модель с подобранными параметрами с другим числом нейронов."
   ]
  },
  {
   "cell_type": "code",
   "execution_count": 103,
   "metadata": {},
   "outputs": [],
   "source": [
    "class Net4_(nn.Module):\n",
    "    def __init__(self):\n",
    "        super(Net4_, self).__init__()\n",
    "        self.cnn_layers = nn.Sequential(\n",
    "            nn.Flatten(),\n",
    "            nn.BatchNorm1d(2352),\n",
    "            nn.Linear(28*28*3, 512),\n",
    "            nn.ReLU(),\n",
    "            nn.Linear(512, 26),\n",
    "            nn.ReLU(),\n",
    "            nn.LogSoftmax(dim=1))\n",
    "        \n",
    "    def forward(self, x):\n",
    "        x = self.cnn_layers(x)\n",
    "        return x\n",
    "    \n",
    "net4_ = Net4_()"
   ]
  },
  {
   "cell_type": "code",
   "execution_count": 104,
   "metadata": {},
   "outputs": [],
   "source": [
    "optimizer = torch.optim.Adam(net4_.parameters(), lr=0.0005, betas=(0.9, 0.99))"
   ]
  },
  {
   "cell_type": "code",
   "execution_count": 105,
   "metadata": {},
   "outputs": [
    {
     "name": "stdout",
     "output_type": "stream",
     "text": [
      "[1,    10] loss: 2.324\n",
      "[1,    20] loss: 1.309\n",
      "[1,    30] loss: 1.002\n",
      "[1,    40] loss: 0.877\n",
      "[1,    50] loss: 0.808\n",
      "[1,    60] loss: 0.727\n",
      "[2,    10] loss: 0.617\n",
      "[2,    20] loss: 0.591\n",
      "[2,    30] loss: 0.564\n",
      "[2,    40] loss: 0.517\n",
      "[2,    50] loss: 0.513\n",
      "[2,    60] loss: 0.488\n",
      "Finished Training\n"
     ]
    }
   ],
   "source": [
    "for epoch in range(2): \n",
    "\n",
    "    running_loss = 0.0\n",
    "    for i, data in enumerate(trainloader, 0):\n",
    "        inputs, labels = data\n",
    "\n",
    "        optimizer.zero_grad()\n",
    "\n",
    "        outputs = net4_(inputs)\n",
    "        loss = criterion(outputs, labels)\n",
    "        loss.backward()\n",
    "        optimizer.step()\n",
    "\n",
    "        running_loss += loss.item()\n",
    "        if i % 10 == 9:\n",
    "            print('[%d, %5d] loss: %.3f' %\n",
    "                    (epoch + 1, i + 1, running_loss / 10))\n",
    "            running_loss = 0.0\n",
    "     \n",
    "print('Finished Training')"
   ]
  },
  {
   "cell_type": "code",
   "execution_count": 106,
   "metadata": {},
   "outputs": [
    {
     "name": "stdout",
     "output_type": "stream",
     "text": [
      "Accuracy: 84 %\n"
     ]
    }
   ],
   "source": [
    "dataiter = iter(testloader)\n",
    "images, labels = dataiter.next()\n",
    "    \n",
    "correct = 0\n",
    "total = 0\n",
    "with torch.no_grad():\n",
    "    for data in testloader:\n",
    "        images, labels = data\n",
    "        outputs = net4_(images)\n",
    "        _, predicted = torch.max(outputs.data, 1)\n",
    "        total += labels.size(0)\n",
    "        correct += (predicted == labels).sum().item()\n",
    "            \n",
    "print('Accuracy: %d %%' % (100 * correct / total))"
   ]
  },
  {
   "cell_type": "code",
   "execution_count": 107,
   "metadata": {},
   "outputs": [],
   "source": [
    "class Net5_(nn.Module):\n",
    "    def __init__(self):\n",
    "        super(Net5_, self).__init__()\n",
    "        self.cnn_layers = nn.Sequential(\n",
    "            nn.Flatten(),\n",
    "            nn.BatchNorm1d(2352),\n",
    "            nn.Linear(28*28*3, 300),\n",
    "            nn.ReLU(),\n",
    "            nn.Linear(300, 26),\n",
    "            nn.ReLU(),\n",
    "            nn.LogSoftmax(dim=1))\n",
    "        \n",
    "    def forward(self, x):\n",
    "        x = self.cnn_layers(x)\n",
    "        return x\n",
    "    \n",
    "net5_ = Net5_()"
   ]
  },
  {
   "cell_type": "code",
   "execution_count": 108,
   "metadata": {},
   "outputs": [],
   "source": [
    "optimizer = torch.optim.Adam(net5_.parameters(), lr=0.0005, betas=(0.9, 0.99))"
   ]
  },
  {
   "cell_type": "code",
   "execution_count": 109,
   "metadata": {},
   "outputs": [
    {
     "name": "stdout",
     "output_type": "stream",
     "text": [
      "Finished Training\n",
      "Accuracy: 82 %\n"
     ]
    }
   ],
   "source": [
    "for epoch in range(2): \n",
    "\n",
    "    running_loss = 0.0\n",
    "    for i, data in enumerate(trainloader, 0):\n",
    "        inputs, labels = data\n",
    "\n",
    "        optimizer.zero_grad()\n",
    "\n",
    "        outputs = net5_(inputs)\n",
    "        loss = criterion(outputs, labels)\n",
    "        loss.backward()\n",
    "        optimizer.step()\n",
    "\n",
    "        running_loss += loss.item()\n",
    "        if i % 100 == 99:\n",
    "            print('[%d, %5d] loss: %.3f' %\n",
    "                    (epoch + 1, i + 1, running_loss / 100))\n",
    "            running_loss = 0.0\n",
    "     \n",
    "print('Finished Training')\n",
    "    \n",
    "dataiter = iter(testloader)\n",
    "images, labels = dataiter.next()\n",
    "    \n",
    "correct = 0\n",
    "total = 0\n",
    "with torch.no_grad():\n",
    "    for data in testloader:\n",
    "        images, labels = data\n",
    "        outputs = net5_(images)\n",
    "        _, predicted = torch.max(outputs.data, 1)\n",
    "        total += labels.size(0)\n",
    "        correct += (predicted == labels).sum().item()\n",
    "\n",
    "err.append(100 * correct / total)\n",
    "            \n",
    "print('Accuracy: %d %%' % (100 * correct / total))"
   ]
  },
  {
   "cell_type": "markdown",
   "metadata": {},
   "source": [
    "### Посмотрим на модель с подобранными параметрами с функциями регуляризации."
   ]
  },
  {
   "cell_type": "code",
   "execution_count": 119,
   "metadata": {},
   "outputs": [
    {
     "name": "stdout",
     "output_type": "stream",
     "text": [
      "Weight_decay:  0.0001\n",
      "[1,    10] loss: 0.190\n",
      "[1,    20] loss: 0.210\n",
      "[1,    30] loss: 0.204\n",
      "[1,    40] loss: 0.199\n",
      "[1,    50] loss: 0.207\n",
      "[1,    60] loss: 0.208\n",
      "[2,    10] loss: 0.196\n",
      "[2,    20] loss: 0.194\n",
      "[2,    30] loss: 0.197\n",
      "[2,    40] loss: 0.200\n",
      "[2,    50] loss: 0.194\n",
      "[2,    60] loss: 0.203\n",
      "Finished Training\n",
      "Accuracy: 85 %\n",
      "Weight_decay:  0.0005\n",
      "[1,    10] loss: 0.189\n",
      "[1,    20] loss: 0.203\n",
      "[1,    30] loss: 0.206\n",
      "[1,    40] loss: 0.205\n",
      "[1,    50] loss: 0.217\n",
      "[1,    60] loss: 0.201\n",
      "[2,    10] loss: 0.198\n",
      "[2,    20] loss: 0.208\n",
      "[2,    30] loss: 0.194\n",
      "[2,    40] loss: 0.211\n",
      "[2,    50] loss: 0.199\n",
      "[2,    60] loss: 0.227\n",
      "Finished Training\n",
      "Accuracy: 85 %\n",
      "Weight_decay:  0.005\n",
      "[1,    10] loss: 0.177\n",
      "[1,    20] loss: 0.126\n",
      "[1,    30] loss: 0.125\n",
      "[1,    40] loss: 0.143\n",
      "[1,    50] loss: 0.158\n",
      "[1,    60] loss: 0.169\n",
      "[2,    10] loss: 0.176\n",
      "[2,    20] loss: 0.189\n",
      "[2,    30] loss: 0.205\n",
      "[2,    40] loss: 0.211\n",
      "[2,    50] loss: 0.242\n",
      "[2,    60] loss: 0.247\n",
      "Finished Training\n",
      "Accuracy: 88 %\n",
      "Weight_decay:  0.5\n",
      "[1,    10] loss: 0.280\n",
      "[1,    20] loss: 0.508\n",
      "[1,    30] loss: 0.799\n",
      "[1,    40] loss: 1.014\n",
      "[1,    50] loss: 1.179\n",
      "[1,    60] loss: 1.325\n",
      "[2,    10] loss: 1.510\n",
      "[2,    20] loss: 1.606\n",
      "[2,    30] loss: 1.706\n",
      "[2,    40] loss: 1.796\n",
      "[2,    50] loss: 1.884\n",
      "[2,    60] loss: 1.953\n",
      "Finished Training\n",
      "Accuracy: 66 %\n"
     ]
    }
   ],
   "source": [
    "accur_ = []\n",
    "\n",
    "for weight in weights:\n",
    "    optimizer = torch.optim.Adam(net_.parameters(), lr=0.0005, betas=(0.9, 0.99), weight_decay=weight)\n",
    "    print('Weight_decay: ', weight)\n",
    "    for epoch in range(2): \n",
    "\n",
    "        running_loss = 0.0\n",
    "        for i, data in enumerate(trainloader, 0):\n",
    "            inputs, labels = data\n",
    "\n",
    "            optimizer.zero_grad()\n",
    "\n",
    "            outputs = net_(inputs)\n",
    "            loss = criterion(outputs, labels)\n",
    "            loss.backward()\n",
    "            optimizer.step()\n",
    "\n",
    "            running_loss += loss.item()\n",
    "            if i % 10 == 9:\n",
    "                print('[%d, %5d] loss: %.3f' %\n",
    "                        (epoch + 1, i + 1, running_loss / 10))\n",
    "                running_loss = 0.0\n",
    "     \n",
    "    print('Finished Training')\n",
    "    \n",
    "    dataiter = iter(testloader)\n",
    "    images, labels = dataiter.next()\n",
    "    \n",
    "    correct = 0\n",
    "    total = 0\n",
    "    with torch.no_grad():\n",
    "        for data in testloader:\n",
    "            images, labels = data\n",
    "            outputs = net_(images)\n",
    "            _, predicted = torch.max(outputs.data, 1)\n",
    "            total += labels.size(0)\n",
    "            correct += (predicted == labels).sum().item()\n",
    "    \n",
    "    accur_.append(100 * correct / total)\n",
    "            \n",
    "    print('Accuracy: %d %%' % (100 * correct / total))"
   ]
  },
  {
   "cell_type": "code",
   "execution_count": 120,
   "metadata": {},
   "outputs": [
    {
     "name": "stdout",
     "output_type": "stream",
     "text": [
      "Learning rate = 0.0005, batch size = 1000  --- 2 layers\n"
     ]
    },
    {
     "data": {
      "text/plain": [
       "[<matplotlib.lines.Line2D at 0x2053ab01b08>]"
      ]
     },
     "execution_count": 120,
     "metadata": {},
     "output_type": "execute_result"
    },
    {
     "data": {
      "image/png": "[encoded data removed]",
      "text/plain": [
       "<Figure size 432x288 with 1 Axes>"
      ]
     },
     "metadata": {
      "needs_background": "light"
     },
     "output_type": "display_data"
    }
   ],
   "source": [
    "print(\"Learning rate = 0.0005, batch size = 1000  --- 2 layers\")\n",
    "plt.plot(weights, accur_)"
   ]
  },
  {
   "cell_type": "markdown",
   "metadata": {},
   "source": [
    "Лучшей моделью оказалась модель с 3мя скрытыми слоями Net5.  "
   ]
  },
  {
   "cell_type": "code",
   "execution_count": 210,
   "metadata": {},
   "outputs": [],
   "source": [
    "from sklearn.metrics import confusion_matrix"
   ]
  },
  {
   "cell_type": "code",
   "execution_count": 211,
   "metadata": {},
   "outputs": [],
   "source": [
    "images, labels = data"
   ]
  },
  {
   "cell_type": "code",
   "execution_count": 212,
   "metadata": {},
   "outputs": [],
   "source": [
    "all_labels = []\n",
    "all_pred = []\n",
    "all_images = []\n",
    "with torch.no_grad():\n",
    "    for data in testloader:\n",
    "        images, labels = data\n",
    "        outputs = net5(images)\n",
    "        _, predicted = torch.max(outputs.data, 1)\n",
    "        total += labels.size(0)\n",
    "        correct += (predicted == labels).sum().item()\n",
    "        all_labels = all_labels + list(labels)\n",
    "        all_pred = all_pred + list(predicted)\n",
    "        for im in images:\n",
    "            all_images.append(list(im))"
   ]
  },
  {
   "cell_type": "code",
   "execution_count": 213,
   "metadata": {},
   "outputs": [
    {
     "name": "stdout",
     "output_type": "stream",
     "text": [
      "Confusion matrix:  [[  3 462   0   6   3   1  11   2   2   0   0   1   0   0   2   0   2   1\n",
      "    1   1   0   0   0   0   0]\n",
      " [  1   1 476   0   9   0   3   0   0   0   0   3   0   0   3   0   0   1\n",
      "    2   0   1   0   0   0   0]\n",
      " [  3   4   0 463   0   0   0   2   0   3   1   2   0   1  14   1   2   0\n",
      "    1   0   1   0   1   0   0]\n",
      " [  0   2   7   0 476   1   4   0   1   0   0   0   0   0   0   0   1   0\n",
      "    1   2   2   0   0   1   0]\n",
      " [  1   0   0   0   1 473   2   0   0   2   0   0   0   1   0  11   1   0\n",
      "    0   6   0   0   0   1   1]\n",
      " [  9   8   0   1   0   3 409   0   0   5   1   0   1   0   0   0  55   0\n",
      "    5   0   1   0   0   0   2]\n",
      " [  3   4   0   0   0   1   0 466   1   0   3   7   1  11   0   0   0   0\n",
      "    0   1   0   0   0   1   1]\n",
      " [  0   0   0   0   0   2   0   0 390  16   0  83   0   0   0   0   1   0\n",
      "    0   1   0   0   0   1   2]\n",
      " [  0   1   0   7   0   1   3   0   8 458   0   1   0   0   0   0   2   0\n",
      "    5   6   2   3   2   0   1]\n",
      " [  2   1   1   1   1   2   0   7   0   0 466   2   1   1   0   0   0   1\n",
      "    0   0   4   3   1   5   0]\n",
      " [  0   3   3   0   1   0   0   4 133   2   0 354   0   0   0   0   0   0\n",
      "    0   0   0   0   0   0   0]\n",
      " [  1   0   0   0   0   0   0   3   0   0   0   0 478  13   0   0   0   1\n",
      "    0   0   2   0   2   0   0]\n",
      " [  6   1   0   3   1   0   1   5   0   0   1   0   6 462   1   0   1   1\n",
      "    0   0   0   1   6   3   0]\n",
      " [  2   0   0   5   2   0   1   0   0   1   0   0   0   0 485   0   1   0\n",
      "    1   0   2   0   0   0   0]\n",
      " [  2   0   0   3   4   3   0   0   0   0   0   0   1   2   1 476   3   1\n",
      "    0   0   0   0   1   0   3]\n",
      " [  9   1   2   1   1   1  80   0   2   0   1   1   0   1   2   3 386   1\n",
      "    0   3   1   1   1   0   0]\n",
      " [  7   0   2   0   3   4   1   2   0   0   4   0   1   3   0   6   1 456\n",
      "    0   4   0   1   0   1   3]\n",
      " [  0   1   0   0   3   0  17   0   1   3   0   0   0   1   1   0   0   0\n",
      "  472   0   0   0   0   1   0]\n",
      " [  0   1   2   0   1   8   0   1   2   5   3   2   0   0   0   0   0   2\n",
      "    0 466   0   1   0   0   6]\n",
      " [  1   0   0   1   0   0   0   2   0   0   0   0   0   0   1   0   0   1\n",
      "    0   1 477   9   2   1   4]\n",
      " [  0   0   0   1   0   0   0   0   0   1   1   0   1   3   0   0   2   6\n",
      "    0   1  22 452   0   3   7]\n",
      " [  1   0   0   0   0   0   0   1   0   0   1   0   0   5   0   0   0   0\n",
      "    0   0   7   3 480   1   1]\n",
      " [  3   0   0   0   0   1   1   0   0   0   2   0   0   4   0   0   1   2\n",
      "    0   1   0   1   0 477   6]\n",
      " [  0   1   0   1   0   0   4   2   0   3   0   0   0   0   1   0   3   4\n",
      "    0   1   4  19   0   4 453]\n",
      " [  1   0   1   1   2   1   0   0   5   0   0   2   0   0   0   1   6   1\n",
      "    0   2   0   0   1   3   0]]\n"
     ]
    }
   ],
   "source": [
    "con_mat = confusion_matrix(all_labels, all_pred)\n",
    "print('Confusion matrix: ', con_mat[1:27, 0:25])   "
   ]
  },
  {
   "cell_type": "code",
   "execution_count": 215,
   "metadata": {},
   "outputs": [
    {
     "name": "stdout",
     "output_type": "stream",
     "text": [
      "Top errors:  [[133, 'l', 'i', 11, 8], [83, 'i', 'l', 8, 11], [80, 'q', 'g', 16, 6], [55, 'g', 'q', 6, 16], [22, 'v', 'u', 21, 20], [19, 'y', 'v', 24, 21], [17, 's', 'g', 18, 6], [16, 'i', 'j', 8, 9], [14, 'd', 'o', 3, 14], [13, 'm', 'n', 12, 13], [13, 'a', 'q', 0, 16], [11, 'h', 'n', 7, 13], [11, 'f', 'p', 5, 15], [11, 'b', 'g', 1, 6]]\n"
     ]
    }
   ],
   "source": [
    "top = []\n",
    "for i in range(con_mat.shape[0]):\n",
    "    for j in range(con_mat.shape[1]):\n",
    "        if (con_mat[i, j] > 10 and i != j):\n",
    "            top.append([con_mat[i, j], classes[i], classes[j], i, j])\n",
    "top.sort(reverse=True)\n",
    "print('Top errors: ', top)"
   ]
  },
  {
   "cell_type": "code",
   "execution_count": 216,
   "metadata": {},
   "outputs": [
    {
     "name": "stdout",
     "output_type": "stream",
     "text": [
      "l i\n",
      "i l\n",
      "q g\n",
      "g q\n",
      "v u\n",
      "y v\n",
      "s g\n",
      "i j\n",
      "d o\n",
      "m n\n"
     ]
    }
   ],
   "source": [
    "num_pics = 10    \n",
    "for i in range(len(top)):\n",
    "    if (num_pics > 0):\n",
    "        print(top[i][1], top[i][2] )\n",
    "        num_pics-=1"
   ]
  },
  {
   "cell_type": "code",
   "execution_count": 274,
   "metadata": {},
   "outputs": [
    {
     "name": "stdout",
     "output_type": "stream",
     "text": [
      "(28, 28, 3)\n"
     ]
    },
    {
     "data": {
      "image/png": "[encoded data removed]",
      "text/plain": [
       "<Figure size 144x144 with 1 Axes>"
      ]
     },
     "metadata": {
      "needs_background": "light"
     },
     "output_type": "display_data"
    }
   ],
   "source": [
    "pic = plt.imread('images/train/g/g_01334.jpg') #перепутал с q\n",
    "print(pic.shape)\n",
    " \n",
    "pic = np.transpose(pic, axes=(1, 0, 2))\n",
    " \n",
    "plt.figure(figsize=(2,2))\n",
    "plt.imshow(pic)\n",
    "plt.show()"
   ]
  },
  {
   "cell_type": "code",
   "execution_count": 260,
   "metadata": {},
   "outputs": [],
   "source": [
    "class_correct = list(0. for i in range(len(classes)))\n",
    "class_total = list(0. for i in range(len(classes)))\n",
    "with torch.no_grad():\n",
    "    for data in testloader:\n",
    "        images, labels = data\n",
    "        outputs = net5(images)\n",
    "        _, predicted = torch.max(outputs, 1)\n",
    "        c = (predicted == labels).squeeze()\n",
    "        for i in range(1000):\n",
    "            label = labels[i]\n",
    "            class_correct[label] += c[i].item()\n",
    "            class_total[label] += 1"
   ]
  },
  {
   "cell_type": "code",
   "execution_count": 261,
   "metadata": {},
   "outputs": [
    {
     "name": "stdout",
     "output_type": "stream",
     "text": [
      "Precision of o = 97.0%\n",
      "Precision of w = 96.0%\n",
      "Precision of e = 95.8%\n",
      "Precision of p = 95.4%\n",
      "Precision of m = 95.2%\n",
      "Precision of x = 95.2%\n",
      "Precision of c = 95.0%\n",
      "Precision of f = 94.8%\n",
      "Precision of t = 94.8%\n",
      "Precision of u = 94.6%\n",
      "Precision of s = 94.2%\n",
      "Precision of z = 94.2%\n",
      "Precision of h = 93.8%\n",
      "Precision of k = 93.4%\n",
      "Precision of n = 93.0%\n",
      "Precision of d = 92.8%\n",
      "Precision of r = 92.6%\n",
      "Precision of b = 92.2%\n",
      "Precision of j = 91.8%\n",
      "Precision of v = 91.0%\n",
      "Precision of a = 90.2%\n",
      "Precision of y = 90.2%\n",
      "Precision of g = 81.4%\n",
      "Precision of i = 79.2%\n",
      "Precision of q = 78.4%\n",
      "Precision of l = 69.4%\n"
     ]
    }
   ],
   "source": [
    "list_with_accuracies = [(classes[i], class_correct[i] / class_total[i]) for i in range(len(classes))]\n",
    "list_with_accuracies.sort(key=lambda x: x[1], reverse=True)\n",
    "\n",
    "for i in range(len(classes)):\n",
    "    print('Precision of ', list_with_accuracies[i][0], ' = ', np.round(list_with_accuracies[i][1]*100, 1), '%', sep='')"
   ]
  },
  {
   "cell_type": "markdown",
   "metadata": {},
   "source": [
    "Модель не идеально равномерно угадывает буквы, но чаще делает ошибки в тех, при чтении которых и люди могут допустить ошибку (l, i, g, q)."
   ]
  },
  {
   "cell_type": "code",
   "execution_count": 262,
   "metadata": {},
   "outputs": [
    {
     "name": "stdout",
     "output_type": "stream",
     "text": [
      "num:  3\n",
      "Top errors:  [[7, 'j', 'd', 9, 3], [6, 'b', 'd', 1, 3]]\n",
      "j d\n",
      "b d\n",
      "Precision of the surname:  97.39999999999999\n"
     ]
    }
   ],
   "source": [
    "num = 0\n",
    "sur_err = []\n",
    "for i in range(len(classes)):\n",
    "    if classes[i] == 'd':\n",
    "        num = i\n",
    "print('num: ', num)\n",
    "\n",
    "sur_err_sum = 0\n",
    "for i in range(con_mat.shape[1]):\n",
    "    if (con_mat[i, num] > 5 and i != num):\n",
    "        sur_err_sum += con_mat[i, num]\n",
    "        sur_err.append([con_mat[i, num], classes[i], classes[num], i, num])\n",
    "sur_err.sort(reverse=True)\n",
    "print('Top errors: ',sur_err)\n",
    "\n",
    "num_pics = 10    \n",
    "for i in range(len(sur_err)):\n",
    "    if (num_pics > 0):\n",
    "        print(sur_err[i][1], sur_err[i][2] )\n",
    "        num_pics -= 1\n",
    "    \n",
    "print('Precision of the surname: ', 100 * (1 - sur_err_sum/class_total[num]))"
   ]
  },
  {
   "cell_type": "markdown",
   "metadata": {},
   "source": [
    "### Задание 2  \n",
    "  \n",
    "*Вес в общей оценке - 0.35*  \n",
    "  \n",
    "1. Постройте и обучите модели нейронной сети с 1-м, 2-мя и 3-мя сверточными слоями.  \n",
    "Попробуйте различные значения параметров сверток и числа фильтров на каждом слое. Оцените качество моделей с различными параметрами, проведите сравнительный анализ.  \n",
    "2. Для наилучшей конфигурации из предыдущего пункта, сравните, как меняется качество модели при увеличении размера батча при использовании BatchNorm и GroupNorm.    "
   ]
  },
  {
   "cell_type": "markdown",
   "metadata": {},
   "source": [
    "### 1 сверточный слой"
   ]
  },
  {
   "cell_type": "code",
   "execution_count": 142,
   "metadata": {},
   "outputs": [],
   "source": [
    "class ConvNet1(nn.Module):\n",
    "    def __init__(self,in_dim,hid,out_dim):\n",
    "        super(ConvNet1, self).__init__()\n",
    "        self.layer = nn.Sequential( \n",
    "            nn.Conv2d(3, 32, kernel_size=5, stride=1, padding=2),\n",
    "            nn.ReLU(), \n",
    "            nn.BatchNorm2d(32), \n",
    "            nn.MaxPool2d(kernel_size=2, stride=2)\n",
    "        )\n",
    "        self.dropout = nn.Dropout()\n",
    "        self.fc1 = nn.Linear(in_dim, hid)\n",
    "        self.fc2 = nn.Linear(hid, out_dim)\n",
    "        \n",
    "    def forward(self, x):\n",
    "        x = self.layer(x)\n",
    "        x = x.reshape(x.size(0), -1)\n",
    "        x = self.dropout(x)\n",
    "        x = self.fc1(x)\n",
    "        x = self.fc2(x)\n",
    "        return x\n",
    "    \n",
    "in_dim = 6272\n",
    "hid = 500\n",
    "out_dim = 26       \n",
    "ConvNet1 = ConvNet1(in_dim, hid, out_dim)"
   ]
  },
  {
   "cell_type": "code",
   "execution_count": 155,
   "metadata": {},
   "outputs": [],
   "source": [
    "criterion = nn.CrossEntropyLoss()   \n",
    "optimizer = torch.optim.Adam(ConvNet1.parameters(), lr=0.0001, betas=(0.9, 0.99))"
   ]
  },
  {
   "cell_type": "code",
   "execution_count": 156,
   "metadata": {},
   "outputs": [],
   "source": [
    "acc1 = []"
   ]
  },
  {
   "cell_type": "code",
   "execution_count": 158,
   "metadata": {},
   "outputs": [
    {
     "name": "stdout",
     "output_type": "stream",
     "text": [
      "Batch size:  50\n",
      "[1,   100] loss: 0.444\n",
      "[1,   200] loss: 0.449\n",
      "[1,   300] loss: 0.430\n",
      "[1,   400] loss: 0.476\n",
      "[1,   500] loss: 0.422\n",
      "[1,   600] loss: 0.464\n",
      "[1,   700] loss: 0.451\n",
      "[1,   800] loss: 0.441\n",
      "[1,   900] loss: 0.444\n",
      "[1,  1000] loss: 0.461\n",
      "[1,  1100] loss: 0.429\n",
      "[1,  1200] loss: 0.478\n",
      "[1,  1300] loss: 0.460\n",
      "[2,   100] loss: 0.395\n",
      "[2,   200] loss: 0.412\n",
      "[2,   300] loss: 0.415\n",
      "[2,   400] loss: 0.398\n",
      "[2,   500] loss: 0.404\n",
      "[2,   600] loss: 0.422\n",
      "[2,   700] loss: 0.416\n",
      "[2,   800] loss: 0.432\n",
      "[2,   900] loss: 0.399\n",
      "[2,  1000] loss: 0.410\n",
      "[2,  1100] loss: 0.413\n",
      "[2,  1200] loss: 0.408\n",
      "[2,  1300] loss: 0.437\n",
      "Finished Training\n",
      "Accuracy: 85 %\n",
      "Batch size:  100\n",
      "[1,   100] loss: 0.363\n",
      "[1,   200] loss: 0.368\n",
      "[1,   300] loss: 0.346\n",
      "[1,   400] loss: 0.387\n",
      "[1,   500] loss: 0.366\n",
      "[1,   600] loss: 0.359\n",
      "[2,   100] loss: 0.348\n",
      "[2,   200] loss: 0.353\n",
      "[2,   300] loss: 0.342\n",
      "[2,   400] loss: 0.357\n",
      "[2,   500] loss: 0.348\n",
      "[2,   600] loss: 0.366\n",
      "Finished Training\n",
      "Accuracy: 87 %\n",
      "Batch size:  200\n",
      "[1,   100] loss: 0.314\n",
      "[1,   200] loss: 0.310\n",
      "[1,   300] loss: 0.327\n",
      "[2,   100] loss: 0.308\n",
      "[2,   200] loss: 0.311\n",
      "[2,   300] loss: 0.321\n",
      "Finished Training\n",
      "Accuracy: 88 %\n",
      "Batch size:  500\n",
      "[1,   100] loss: 0.292\n",
      "[2,   100] loss: 0.286\n",
      "Finished Training\n",
      "Accuracy: 88 %\n",
      "Batch size:  1000\n",
      "Finished Training\n",
      "Accuracy: 88 %\n"
     ]
    }
   ],
   "source": [
    "for batch in batch_size:\n",
    "    trainloader, testloader, classes, dataset_sizes=get_dataset('images',data_transforms, batch)\n",
    "    \n",
    "    print('Batch size: ', batch)\n",
    "    \n",
    "    for epoch in range(2): \n",
    "\n",
    "        running_loss = 0.0\n",
    "        for i, data in enumerate(trainloader, 0):\n",
    "            inputs, labels = data\n",
    "\n",
    "            optimizer.zero_grad()\n",
    "\n",
    "            outputs = ConvNet1(inputs)\n",
    "            loss = criterion(outputs, labels)\n",
    "            loss.backward()\n",
    "            optimizer.step()\n",
    "\n",
    "            running_loss += loss.item()\n",
    "            if i % 100 == 99:\n",
    "                print('[%d, %5d] loss: %.3f' %\n",
    "                      (epoch + 1, i + 1, running_loss / 100))\n",
    "                running_loss = 0.0\n",
    "     \n",
    "    print('Finished Training')\n",
    "    \n",
    "    dataiter = iter(testloader)\n",
    "    images, labels = dataiter.next()\n",
    "    \n",
    "    correct = 0\n",
    "    total = 0\n",
    "    with torch.no_grad():\n",
    "        for data in testloader:\n",
    "            images, labels = data\n",
    "            outputs = ConvNet1(images)\n",
    "            _, predicted = torch.max(outputs.data, 1)\n",
    "            total += labels.size(0)\n",
    "            correct += (predicted == labels).sum().item()\n",
    "\n",
    "    acc1.append(100 * correct / total)\n",
    "            \n",
    "    print('Accuracy: %d %%' % (100 * correct / total))"
   ]
  },
  {
   "cell_type": "code",
   "execution_count": 159,
   "metadata": {},
   "outputs": [],
   "source": [
    "optimizer = torch.optim.Adam(ConvNet1.parameters(), lr=0.0005, betas=(0.9, 0.99))"
   ]
  },
  {
   "cell_type": "code",
   "execution_count": 160,
   "metadata": {},
   "outputs": [],
   "source": [
    "acc1_ = []"
   ]
  },
  {
   "cell_type": "code",
   "execution_count": 161,
   "metadata": {},
   "outputs": [
    {
     "name": "stdout",
     "output_type": "stream",
     "text": [
      "Batch size:  50\n",
      "[1,   100] loss: 0.578\n",
      "[1,   200] loss: 0.676\n",
      "[1,   300] loss: 0.624\n",
      "[1,   400] loss: 0.634\n",
      "[1,   500] loss: 0.631\n",
      "[1,   600] loss: 0.581\n",
      "[1,   700] loss: 0.581\n",
      "[1,   800] loss: 0.599\n",
      "[1,   900] loss: 0.565\n",
      "[1,  1000] loss: 0.573\n",
      "[1,  1100] loss: 0.585\n",
      "[1,  1200] loss: 0.595\n",
      "[1,  1300] loss: 0.577\n",
      "[2,   100] loss: 0.508\n",
      "[2,   200] loss: 0.505\n",
      "[2,   300] loss: 0.482\n",
      "[2,   400] loss: 0.517\n",
      "[2,   500] loss: 0.522\n",
      "[2,   600] loss: 0.500\n",
      "[2,   700] loss: 0.504\n",
      "[2,   800] loss: 0.493\n",
      "[2,   900] loss: 0.497\n",
      "[2,  1000] loss: 0.545\n",
      "[2,  1100] loss: 0.492\n",
      "[2,  1200] loss: 0.502\n",
      "[2,  1300] loss: 0.473\n",
      "Finished Training\n",
      "Accuracy: 83 %\n",
      "Batch size:  100\n",
      "[1,   100] loss: 0.415\n",
      "[1,   200] loss: 0.401\n",
      "[1,   300] loss: 0.377\n",
      "[1,   400] loss: 0.416\n",
      "[1,   500] loss: 0.398\n",
      "[1,   600] loss: 0.420\n",
      "[2,   100] loss: 0.362\n",
      "[2,   200] loss: 0.377\n",
      "[2,   300] loss: 0.397\n",
      "[2,   400] loss: 0.388\n",
      "[2,   500] loss: 0.380\n",
      "[2,   600] loss: 0.394\n",
      "Finished Training\n",
      "Accuracy: 86 %\n",
      "Batch size:  200\n",
      "[1,   100] loss: 0.309\n",
      "[1,   200] loss: 0.340\n",
      "[1,   300] loss: 0.349\n",
      "[2,   100] loss: 0.327\n",
      "[2,   200] loss: 0.314\n",
      "[2,   300] loss: 0.330\n",
      "Finished Training\n",
      "Accuracy: 87 %\n",
      "Batch size:  500\n",
      "[1,   100] loss: 0.282\n",
      "[2,   100] loss: 0.274\n",
      "Finished Training\n",
      "Accuracy: 88 %\n",
      "Batch size:  1000\n",
      "Finished Training\n",
      "Accuracy: 89 %\n"
     ]
    }
   ],
   "source": [
    "for batch in batch_size:\n",
    "    trainloader, testloader, classes, dataset_sizes=get_dataset('images',data_transforms, batch)\n",
    "    \n",
    "    print('Batch size: ', batch)\n",
    "    \n",
    "    for epoch in range(2): \n",
    "\n",
    "        running_loss = 0.0\n",
    "        for i, data in enumerate(trainloader, 0):\n",
    "            inputs, labels = data\n",
    "\n",
    "            optimizer.zero_grad()\n",
    "\n",
    "            outputs = ConvNet1(inputs)\n",
    "            loss = criterion(outputs, labels)\n",
    "            loss.backward()\n",
    "            optimizer.step()\n",
    "\n",
    "            running_loss += loss.item()\n",
    "            if i % 100 == 99:\n",
    "                print('[%d, %5d] loss: %.3f' %\n",
    "                      (epoch + 1, i + 1, running_loss / 100))\n",
    "                running_loss = 0.0\n",
    "     \n",
    "    print('Finished Training')\n",
    "    \n",
    "    dataiter = iter(testloader)\n",
    "    images, labels = dataiter.next()\n",
    "    \n",
    "    correct = 0\n",
    "    total = 0\n",
    "    with torch.no_grad():\n",
    "        for data in testloader:\n",
    "            images, labels = data\n",
    "            outputs = ConvNet1(images)\n",
    "            _, predicted = torch.max(outputs.data, 1)\n",
    "            total += labels.size(0)\n",
    "            correct += (predicted == labels).sum().item()\n",
    "\n",
    "    acc1_.append(100 * correct / total)\n",
    "            \n",
    "    print('Accuracy: %d %%' % (100 * correct / total))"
   ]
  },
  {
   "cell_type": "markdown",
   "metadata": {},
   "source": [
    "Лучший результат у модели при learning_rate = 0.0005 и batch_size = 1000."
   ]
  },
  {
   "cell_type": "code",
   "execution_count": 162,
   "metadata": {},
   "outputs": [],
   "source": [
    "optimizer = torch.optim.Adam(ConvNet1.parameters(), lr=0.0005, betas=(0.9, 0.99))"
   ]
  },
  {
   "cell_type": "code",
   "execution_count": 163,
   "metadata": {},
   "outputs": [],
   "source": [
    "trainloader, testloader, classes, dataset_sizes=get_dataset('images',data_transforms, 1000)"
   ]
  },
  {
   "cell_type": "code",
   "execution_count": 171,
   "metadata": {},
   "outputs": [],
   "source": [
    "class ConvNet1_1(nn.Module):\n",
    "    def __init__(self):\n",
    "        super(ConvNet1_1, self).__init__()\n",
    "        self.layer1 = nn.Sequential( nn.Conv2d(3, 32, kernel_size=5, stride=1, padding=2),\n",
    "        nn.ReLU(), nn.MaxPool2d(kernel_size=2, stride=2))\n",
    "        self.drop_out = nn.Dropout()\n",
    "        self.fc1 = nn.Linear(6272, 500)\n",
    "        self.fc2 = nn.Linear(500, 26)\n",
    "        \n",
    "    def forward(self, x):\n",
    "        out = self.layer1(x)\n",
    "        out = out.reshape(out.size(0), -1)\n",
    "        out = self.drop_out(out)\n",
    "        out = self.fc1(out)\n",
    "        out = self.fc2(out)\n",
    "        return out\n",
    "        \n",
    "ConvNet1_1 = ConvNet1_1()"
   ]
  },
  {
   "cell_type": "code",
   "execution_count": 173,
   "metadata": {},
   "outputs": [],
   "source": [
    "optimizer = torch.optim.Adam(ConvNet1_1.parameters(), lr=0.0005, betas=(0.9, 0.99))"
   ]
  },
  {
   "cell_type": "code",
   "execution_count": 174,
   "metadata": {},
   "outputs": [
    {
     "name": "stdout",
     "output_type": "stream",
     "text": [
      "Finished Training\n",
      "Accuracy: 83 %\n"
     ]
    }
   ],
   "source": [
    "for epoch in range(2): \n",
    "\n",
    "    running_loss = 0.0\n",
    "    for i, data in enumerate(trainloader, 0):\n",
    "        inputs, labels = data\n",
    "\n",
    "        optimizer.zero_grad()\n",
    "\n",
    "        outputs = ConvNet1_1(inputs)\n",
    "        loss = criterion(outputs, labels)\n",
    "        loss.backward()\n",
    "        optimizer.step()\n",
    "\n",
    "        running_loss += loss.item()\n",
    "        if i % 100 == 99:\n",
    "            print('[%d, %5d] loss: %.3f' %\n",
    "                    (epoch + 1, i + 1, running_loss / 100))\n",
    "            running_loss = 0.0\n",
    "     \n",
    "print('Finished Training')\n",
    "    \n",
    "dataiter = iter(testloader)\n",
    "images, labels = dataiter.next()\n",
    "    \n",
    "correct = 0\n",
    "total = 0\n",
    "with torch.no_grad():\n",
    "    for data in testloader:\n",
    "        images, labels = data\n",
    "        outputs = ConvNet1_1(images)\n",
    "        _, predicted = torch.max(outputs.data, 1)\n",
    "        total += labels.size(0)\n",
    "        correct += (predicted == labels).sum().item()\n",
    "            \n",
    "print('Accuracy: %d %%' % (100 * correct / total))"
   ]
  },
  {
   "cell_type": "markdown",
   "metadata": {},
   "source": [
    "### 2 сверточных слоя"
   ]
  },
  {
   "cell_type": "code",
   "execution_count": 175,
   "metadata": {},
   "outputs": [],
   "source": [
    "class ConvNet2(nn.Module):\n",
    "    def __init__(self,in_dim,hid,out_dim):\n",
    "        super(ConvNet2, self).__init__()\n",
    "        self.layer1 = nn.Sequential( \n",
    "            nn.Conv2d(3, 32, kernel_size=5, stride=1, padding=2),\n",
    "            nn.ReLU(), \n",
    "            nn.BatchNorm2d(32),\n",
    "            nn.MaxPool2d(kernel_size=2, stride=2)\n",
    "        )\n",
    "        self.layer2 = nn.Sequential(\n",
    "            nn.Conv2d(32, 64, kernel_size=5, stride=1, padding=2),\n",
    "            nn.ReLU(), nn.MaxPool2d(kernel_size=2, stride=2))\n",
    "        self.dropout = nn.Dropout()\n",
    "        self.fc1 = nn.Linear(in_dim, hid)\n",
    "        self.fc2 = nn.Linear(hid, out_dim)\n",
    "        \n",
    "    def forward(self, x):\n",
    "        x = self.layer1(x)\n",
    "        x = self.layer2(x)\n",
    "        x = x.reshape(x.size(0), -1)\n",
    "        x = self.dropout(x)\n",
    "        x = self.fc1(x)\n",
    "        x = self.fc2(x)\n",
    "        return x\n",
    "    \n",
    "in_dim = 3136\n",
    "hid = 500\n",
    "out_dim = 26\n",
    "ConvNet2 = ConvNet2(in_dim, hid, out_dim)"
   ]
  },
  {
   "cell_type": "code",
   "execution_count": 176,
   "metadata": {},
   "outputs": [],
   "source": [
    "criterion = nn.CrossEntropyLoss()      \n",
    "optimizer = torch.optim.Adam(ConvNet2.parameters(), lr=0.0001, betas=(0.9, 0.99))"
   ]
  },
  {
   "cell_type": "code",
   "execution_count": 177,
   "metadata": {},
   "outputs": [],
   "source": [
    "acc2_ = []"
   ]
  },
  {
   "cell_type": "code",
   "execution_count": 178,
   "metadata": {},
   "outputs": [
    {
     "name": "stdout",
     "output_type": "stream",
     "text": [
      "Batch size:  50\n",
      "[1,   100] loss: 1.971\n",
      "[1,   200] loss: 1.069\n",
      "[1,   300] loss: 0.851\n",
      "[1,   400] loss: 0.708\n",
      "[1,   500] loss: 0.612\n",
      "[1,   600] loss: 0.561\n",
      "[1,   700] loss: 0.531\n",
      "[1,   800] loss: 0.527\n",
      "[1,   900] loss: 0.504\n",
      "[1,  1000] loss: 0.482\n",
      "[1,  1100] loss: 0.459\n",
      "[1,  1200] loss: 0.452\n",
      "[1,  1300] loss: 0.430\n",
      "[2,   100] loss: 0.376\n",
      "[2,   200] loss: 0.407\n",
      "[2,   300] loss: 0.378\n",
      "[2,   400] loss: 0.368\n",
      "[2,   500] loss: 0.373\n",
      "[2,   600] loss: 0.375\n",
      "[2,   700] loss: 0.352\n",
      "[2,   800] loss: 0.358\n",
      "[2,   900] loss: 0.355\n",
      "[2,  1000] loss: 0.325\n",
      "[2,  1100] loss: 0.342\n",
      "[2,  1200] loss: 0.353\n",
      "[2,  1300] loss: 0.325\n",
      "Finished Training\n",
      "Accuracy: 89 %\n",
      "Batch size:  100\n",
      "[1,   100] loss: 0.295\n",
      "[1,   200] loss: 0.294\n",
      "[1,   300] loss: 0.293\n",
      "[1,   400] loss: 0.291\n",
      "[1,   500] loss: 0.285\n",
      "[1,   600] loss: 0.295\n",
      "[2,   100] loss: 0.273\n",
      "[2,   200] loss: 0.273\n",
      "[2,   300] loss: 0.257\n",
      "[2,   400] loss: 0.264\n",
      "[2,   500] loss: 0.253\n",
      "[2,   600] loss: 0.263\n",
      "Finished Training\n",
      "Accuracy: 91 %\n",
      "Batch size:  200\n",
      "[1,   100] loss: 0.237\n",
      "[1,   200] loss: 0.236\n",
      "[1,   300] loss: 0.234\n",
      "[2,   100] loss: 0.224\n",
      "[2,   200] loss: 0.232\n",
      "[2,   300] loss: 0.222\n",
      "Finished Training\n",
      "Accuracy: 91 %\n",
      "Batch size:  500\n",
      "[1,   100] loss: 0.209\n",
      "[2,   100] loss: 0.204\n",
      "Finished Training\n",
      "Accuracy: 92 %\n",
      "Batch size:  1000\n",
      "Finished Training\n",
      "Accuracy: 92 %\n"
     ]
    }
   ],
   "source": [
    "for batch in batch_size:\n",
    "    trainloader, testloader, classes, dataset_sizes=get_dataset('images',data_transforms, batch)\n",
    "    \n",
    "    print('Batch size: ', batch)\n",
    "    \n",
    "    for epoch in range(2): \n",
    "\n",
    "        running_loss = 0.0\n",
    "        for i, data in enumerate(trainloader, 0):\n",
    "            inputs, labels = data\n",
    "\n",
    "            optimizer.zero_grad()\n",
    "\n",
    "            outputs = ConvNet2(inputs)\n",
    "            loss = criterion(outputs, labels)\n",
    "            loss.backward()\n",
    "            optimizer.step()\n",
    "\n",
    "            running_loss += loss.item()\n",
    "            if i % 100 == 99:\n",
    "                print('[%d, %5d] loss: %.3f' %\n",
    "                      (epoch + 1, i + 1, running_loss / 100))\n",
    "                running_loss = 0.0\n",
    "     \n",
    "    print('Finished Training')\n",
    "    \n",
    "    dataiter = iter(testloader)\n",
    "    images, labels = dataiter.next()\n",
    "    \n",
    "    correct = 0\n",
    "    total = 0\n",
    "    with torch.no_grad():\n",
    "        for data in testloader:\n",
    "            images, labels = data\n",
    "            outputs = ConvNet2(images)\n",
    "            _, predicted = torch.max(outputs.data, 1)\n",
    "            total += labels.size(0)\n",
    "            correct += (predicted == labels).sum().item()\n",
    "\n",
    "    acc2_.append(100 * correct / total)\n",
    "            \n",
    "    print('Accuracy: %d %%' % (100 * correct / total))"
   ]
  },
  {
   "cell_type": "code",
   "execution_count": 179,
   "metadata": {},
   "outputs": [],
   "source": [
    "criterion = nn.CrossEntropyLoss()      \n",
    "optimizer = torch.optim.Adam(ConvNet2.parameters(), lr=0.0005, betas=(0.9, 0.99))"
   ]
  },
  {
   "cell_type": "code",
   "execution_count": 180,
   "metadata": {},
   "outputs": [],
   "source": [
    "acc2 = []"
   ]
  },
  {
   "cell_type": "code",
   "execution_count": 181,
   "metadata": {},
   "outputs": [
    {
     "name": "stdout",
     "output_type": "stream",
     "text": [
      "Batch size:  50\n",
      "[1,   100] loss: 0.322\n",
      "[1,   200] loss: 0.350\n",
      "[1,   300] loss: 0.365\n",
      "[1,   400] loss: 0.356\n",
      "[1,   500] loss: 0.345\n",
      "[1,   600] loss: 0.386\n",
      "[1,   700] loss: 0.360\n",
      "[1,   800] loss: 0.343\n",
      "[1,   900] loss: 0.371\n",
      "[1,  1000] loss: 0.345\n",
      "[1,  1100] loss: 0.347\n",
      "[1,  1200] loss: 0.378\n",
      "[1,  1300] loss: 0.340\n",
      "[2,   100] loss: 0.299\n",
      "[2,   200] loss: 0.330\n",
      "[2,   300] loss: 0.326\n",
      "[2,   400] loss: 0.311\n",
      "[2,   500] loss: 0.330\n",
      "[2,   600] loss: 0.341\n",
      "[2,   700] loss: 0.333\n",
      "[2,   800] loss: 0.312\n",
      "[2,   900] loss: 0.308\n",
      "[2,  1000] loss: 0.307\n",
      "[2,  1100] loss: 0.335\n",
      "[2,  1200] loss: 0.327\n",
      "[2,  1300] loss: 0.311\n",
      "Finished Training\n",
      "Accuracy: 89 %\n",
      "Batch size:  100\n",
      "[1,   100] loss: 0.242\n",
      "[1,   200] loss: 0.254\n",
      "[1,   300] loss: 0.248\n",
      "[1,   400] loss: 0.248\n",
      "[1,   500] loss: 0.264\n",
      "[1,   600] loss: 0.272\n",
      "[2,   100] loss: 0.221\n",
      "[2,   200] loss: 0.226\n",
      "[2,   300] loss: 0.234\n",
      "[2,   400] loss: 0.252\n",
      "[2,   500] loss: 0.249\n",
      "[2,   600] loss: 0.244\n",
      "Finished Training\n",
      "Accuracy: 91 %\n",
      "Batch size:  200\n",
      "[1,   100] loss: 0.196\n",
      "[1,   200] loss: 0.198\n",
      "[1,   300] loss: 0.197\n",
      "[2,   100] loss: 0.186\n",
      "[2,   200] loss: 0.187\n",
      "[2,   300] loss: 0.199\n",
      "Finished Training\n",
      "Accuracy: 92 %\n",
      "Batch size:  500\n",
      "[1,   100] loss: 0.159\n",
      "[2,   100] loss: 0.150\n",
      "Finished Training\n",
      "Accuracy: 93 %\n",
      "Batch size:  1000\n",
      "Finished Training\n",
      "Accuracy: 93 %\n"
     ]
    }
   ],
   "source": [
    "for batch in batch_size:\n",
    "    trainloader, testloader, classes, dataset_sizes=get_dataset('images',data_transforms, batch)\n",
    "    \n",
    "    print('Batch size: ', batch)\n",
    "    \n",
    "    for epoch in range(2): \n",
    "\n",
    "        running_loss = 0.0\n",
    "        for i, data in enumerate(trainloader, 0):\n",
    "            inputs, labels = data\n",
    "\n",
    "            optimizer.zero_grad()\n",
    "\n",
    "            outputs = ConvNet2(inputs)\n",
    "            loss = criterion(outputs, labels)\n",
    "            loss.backward()\n",
    "            optimizer.step()\n",
    "\n",
    "            running_loss += loss.item()\n",
    "            if i % 100 == 99:\n",
    "                print('[%d, %5d] loss: %.3f' %\n",
    "                      (epoch + 1, i + 1, running_loss / 100))\n",
    "                running_loss = 0.0\n",
    "     \n",
    "    print('Finished Training')\n",
    "    \n",
    "    dataiter = iter(testloader)\n",
    "    images, labels = dataiter.next()\n",
    "    \n",
    "    correct = 0\n",
    "    total = 0\n",
    "    with torch.no_grad():\n",
    "        for data in testloader:\n",
    "            images, labels = data\n",
    "            outputs = ConvNet2(images)\n",
    "            _, predicted = torch.max(outputs.data, 1)\n",
    "            total += labels.size(0)\n",
    "            correct += (predicted == labels).sum().item()\n",
    "\n",
    "    acc2.append(100 * correct / total)\n",
    "            \n",
    "    print('Accuracy: %d %%' % (100 * correct / total))"
   ]
  },
  {
   "cell_type": "code",
   "execution_count": 182,
   "metadata": {},
   "outputs": [],
   "source": [
    "class ConvNet2_1(nn.Module):\n",
    "    def __init__(self):\n",
    "        super(ConvNet2_1, self).__init__()\n",
    "        self.layer1 = nn.Sequential( \n",
    "            nn.Conv2d(3, 32, kernel_size=5, stride=1, padding=2),\n",
    "            nn.ReLU(), \n",
    "            nn.MaxPool2d(kernel_size=2, stride=2))\n",
    "        self.layer2 = nn.Sequential( \n",
    "            nn.Conv2d(32, 64, kernel_size=5, stride=1, padding=2),\n",
    "            nn.ReLU(), \n",
    "            nn.MaxPool2d(kernel_size=2, stride=2))\n",
    "        self.dropout = nn.Dropout()\n",
    "        self.fc1 = nn.Linear(3136, 500)\n",
    "        self.fc2 = nn.Linear(500, 26)\n",
    "        \n",
    "    def forward(self, x):\n",
    "        x = self.layer1(x)\n",
    "        x = self.layer2(x)\n",
    "        x = x.reshape(x.size(0), -1)\n",
    "        x = self.dropout(x)\n",
    "        x = self.fc1(x)\n",
    "        x = self.fc2(x)\n",
    "        return x\n",
    "\n",
    "ConvNet2_1 = ConvNet2_1()"
   ]
  },
  {
   "cell_type": "code",
   "execution_count": 183,
   "metadata": {},
   "outputs": [],
   "source": [
    "optimizer = torch.optim.Adam(ConvNet2_1.parameters(), lr=0.0005, betas=(0.9, 0.99))"
   ]
  },
  {
   "cell_type": "code",
   "execution_count": 184,
   "metadata": {},
   "outputs": [],
   "source": [
    "trainloader, testloader, classes, dataset_sizes=get_dataset('images',data_transforms, 500)"
   ]
  },
  {
   "cell_type": "code",
   "execution_count": 186,
   "metadata": {},
   "outputs": [
    {
     "name": "stdout",
     "output_type": "stream",
     "text": [
      "[1,   100] loss: 0.344\n",
      "[2,   100] loss: 0.297\n",
      "Finished Training\n",
      "Accuracy: 90 %\n"
     ]
    }
   ],
   "source": [
    "for epoch in range(2): \n",
    "\n",
    "    running_loss = 0.0\n",
    "    for i, data in enumerate(trainloader, 0):\n",
    "        inputs, labels = data\n",
    "\n",
    "        optimizer.zero_grad()\n",
    "\n",
    "        outputs = ConvNet2_1(inputs)\n",
    "        loss = criterion(outputs, labels)\n",
    "        loss.backward()\n",
    "        optimizer.step()\n",
    "\n",
    "        running_loss += loss.item()\n",
    "        if i % 100 == 99:\n",
    "            print('[%d, %5d] loss: %.3f' %\n",
    "                    (epoch + 1, i + 1, running_loss / 100))\n",
    "            running_loss = 0.0\n",
    "     \n",
    "print('Finished Training')\n",
    "    \n",
    "dataiter = iter(testloader)\n",
    "images, labels = dataiter.next()\n",
    "    \n",
    "correct = 0\n",
    "total = 0\n",
    "with torch.no_grad():\n",
    "    for data in testloader:\n",
    "        images, labels = data\n",
    "        outputs = ConvNet2_1(images)\n",
    "        _, predicted = torch.max(outputs.data, 1)\n",
    "        total += labels.size(0)\n",
    "        correct += (predicted == labels).sum().item()\n",
    "            \n",
    "print('Accuracy: %d %%' % (100 * correct / total))"
   ]
  },
  {
   "cell_type": "markdown",
   "metadata": {},
   "source": [
    "### 3 сверточных слоя"
   ]
  },
  {
   "cell_type": "code",
   "execution_count": 187,
   "metadata": {},
   "outputs": [],
   "source": [
    "class ConvNet3(nn.Module):\n",
    "    def __init__(self,in_dim,hid,out_dim):\n",
    "        super(ConvNet3, self).__init__()\n",
    "        self.layer1 = nn.Sequential( \n",
    "            nn.Conv2d(3, 32, kernel_size=5, stride=1, padding=2),\n",
    "            nn.ReLU(), \n",
    "            nn.MaxPool2d(kernel_size=2, stride=2)\n",
    "        )\n",
    "        self.layer2 = nn.Sequential( \n",
    "            nn.Conv2d(32, 64, kernel_size=5, stride=1, padding=2),\n",
    "            nn.ReLU(), nn.MaxPool2d(kernel_size=2, stride=2))\n",
    "        self.layer3 = nn.Sequential( \n",
    "            nn.Conv2d(64, 128, kernel_size=5, stride=1, padding=2),\n",
    "            nn.ReLU(), nn.MaxPool2d(kernel_size=2, stride=2))\n",
    "        self.dropout = nn.Dropout()\n",
    "        self.fc1 = nn.Linear(in_dim, hid)\n",
    "        self.fc2 = nn.Linear(hid, out_dim)\n",
    "\n",
    "    def forward(self, x):\n",
    "        x = self.layer1(x)\n",
    "        x = self.layer2(x)\n",
    "        x = self.layer3(x)\n",
    "        x = x.reshape(x.size(0), -1)\n",
    "        x = self.dropout(x)\n",
    "        x = self.fc1(x)\n",
    "        x = self.fc2(x)\n",
    "        return x\n",
    "    \n",
    "in_dim = 1152\n",
    "hid = 500\n",
    "out_dim = 26    \n",
    "ConvNet3 = ConvNet3(in_dim, hid, out_dim)"
   ]
  },
  {
   "cell_type": "code",
   "execution_count": 188,
   "metadata": {},
   "outputs": [],
   "source": [
    "criterion = nn.CrossEntropyLoss()      \n",
    "optimizer = torch.optim.Adam(ConvNet3.parameters(), lr=0.0001, betas=(0.9, 0.99))"
   ]
  },
  {
   "cell_type": "code",
   "execution_count": 189,
   "metadata": {},
   "outputs": [],
   "source": [
    "acc3 = []"
   ]
  },
  {
   "cell_type": "code",
   "execution_count": 190,
   "metadata": {},
   "outputs": [
    {
     "name": "stdout",
     "output_type": "stream",
     "text": [
      "Batch size:  50\n",
      "[1,   100] loss: 2.941\n",
      "[1,   200] loss: 1.646\n",
      "[1,   300] loss: 1.140\n",
      "[1,   400] loss: 0.933\n",
      "[1,   500] loss: 0.810\n",
      "[1,   600] loss: 0.700\n",
      "[1,   700] loss: 0.627\n",
      "[1,   800] loss: 0.594\n",
      "[1,   900] loss: 0.534\n",
      "[1,  1000] loss: 0.529\n",
      "[1,  1100] loss: 0.495\n",
      "[1,  1200] loss: 0.467\n",
      "[1,  1300] loss: 0.448\n",
      "[2,   100] loss: 0.427\n",
      "[2,   200] loss: 0.419\n",
      "[2,   300] loss: 0.415\n",
      "[2,   400] loss: 0.397\n",
      "[2,   500] loss: 0.386\n",
      "[2,   600] loss: 0.376\n",
      "[2,   700] loss: 0.372\n",
      "[2,   800] loss: 0.360\n",
      "[2,   900] loss: 0.360\n",
      "[2,  1000] loss: 0.346\n",
      "[2,  1100] loss: 0.324\n",
      "[2,  1200] loss: 0.334\n",
      "[2,  1300] loss: 0.329\n",
      "Finished Training\n",
      "Accuracy: 89 %\n",
      "Batch size:  100\n",
      "[1,   100] loss: 0.304\n",
      "[1,   200] loss: 0.307\n",
      "[1,   300] loss: 0.294\n",
      "[1,   400] loss: 0.279\n",
      "[1,   500] loss: 0.284\n",
      "[1,   600] loss: 0.283\n",
      "[2,   100] loss: 0.260\n",
      "[2,   200] loss: 0.267\n",
      "[2,   300] loss: 0.270\n",
      "[2,   400] loss: 0.245\n",
      "[2,   500] loss: 0.257\n",
      "[2,   600] loss: 0.252\n",
      "Finished Training\n",
      "Accuracy: 91 %\n",
      "Batch size:  200\n",
      "[1,   100] loss: 0.227\n",
      "[1,   200] loss: 0.228\n",
      "[1,   300] loss: 0.240\n",
      "[2,   100] loss: 0.222\n",
      "[2,   200] loss: 0.220\n",
      "[2,   300] loss: 0.219\n",
      "Finished Training\n",
      "Accuracy: 91 %\n",
      "Batch size:  500\n",
      "[1,   100] loss: 0.203\n",
      "[2,   100] loss: 0.197\n",
      "Finished Training\n",
      "Accuracy: 92 %\n",
      "Batch size:  1000\n",
      "Finished Training\n",
      "Accuracy: 92 %\n"
     ]
    }
   ],
   "source": [
    "for batch in batch_size:\n",
    "    trainloader, testloader, classes, dataset_sizes=get_dataset('images',data_transforms, batch)\n",
    "    \n",
    "    print('Batch size: ', batch)\n",
    "    \n",
    "    for epoch in range(2): \n",
    "\n",
    "        running_loss = 0.0\n",
    "        for i, data in enumerate(trainloader, 0):\n",
    "            inputs, labels = data\n",
    "\n",
    "            optimizer.zero_grad()\n",
    "\n",
    "            outputs = ConvNet3(inputs)\n",
    "            loss = criterion(outputs, labels)\n",
    "            loss.backward()\n",
    "            optimizer.step()\n",
    "\n",
    "            running_loss += loss.item()\n",
    "            if i % 100 == 99:\n",
    "                print('[%d, %5d] loss: %.3f' %\n",
    "                      (epoch + 1, i + 1, running_loss / 100))\n",
    "                running_loss = 0.0\n",
    "     \n",
    "    print('Finished Training')\n",
    "    \n",
    "    dataiter = iter(testloader)\n",
    "    images, labels = dataiter.next()\n",
    "    \n",
    "    correct = 0\n",
    "    total = 0\n",
    "    with torch.no_grad():\n",
    "        for data in testloader:\n",
    "            images, labels = data\n",
    "            outputs = ConvNet3(images)\n",
    "            _, predicted = torch.max(outputs.data, 1)\n",
    "            total += labels.size(0)\n",
    "            correct += (predicted == labels).sum().item()\n",
    "\n",
    "    acc3.append(100 * correct / total)\n",
    "            \n",
    "    print('Accuracy: %d %%' % (100 * correct / total))"
   ]
  },
  {
   "cell_type": "code",
   "execution_count": 191,
   "metadata": {},
   "outputs": [],
   "source": [
    "optimizer = torch.optim.Adam(ConvNet3.parameters(), lr=0.0005, betas=(0.9, 0.99))"
   ]
  },
  {
   "cell_type": "code",
   "execution_count": 192,
   "metadata": {},
   "outputs": [],
   "source": [
    "acc3_ = []"
   ]
  },
  {
   "cell_type": "code",
   "execution_count": 193,
   "metadata": {},
   "outputs": [
    {
     "name": "stdout",
     "output_type": "stream",
     "text": [
      "Batch size:  50\n",
      "[1,   100] loss: 0.361\n",
      "[1,   200] loss: 0.359\n",
      "[1,   300] loss: 0.322\n",
      "[1,   400] loss: 0.322\n",
      "[1,   500] loss: 0.321\n",
      "[1,   600] loss: 0.327\n",
      "[1,   700] loss: 0.312\n",
      "[1,   800] loss: 0.311\n",
      "[1,   900] loss: 0.297\n",
      "[1,  1000] loss: 0.299\n",
      "[1,  1100] loss: 0.337\n",
      "[1,  1200] loss: 0.259\n",
      "[1,  1300] loss: 0.292\n",
      "[2,   100] loss: 0.262\n",
      "[2,   200] loss: 0.258\n",
      "[2,   300] loss: 0.260\n",
      "[2,   400] loss: 0.268\n",
      "[2,   500] loss: 0.245\n",
      "[2,   600] loss: 0.259\n",
      "[2,   700] loss: 0.279\n",
      "[2,   800] loss: 0.256\n",
      "[2,   900] loss: 0.258\n",
      "[2,  1000] loss: 0.260\n",
      "[2,  1100] loss: 0.236\n",
      "[2,  1200] loss: 0.234\n",
      "[2,  1300] loss: 0.251\n",
      "Finished Training\n",
      "Accuracy: 91 %\n",
      "Batch size:  100\n",
      "[1,   100] loss: 0.206\n",
      "[1,   200] loss: 0.182\n",
      "[1,   300] loss: 0.198\n",
      "[1,   400] loss: 0.204\n",
      "[1,   500] loss: 0.198\n",
      "[1,   600] loss: 0.199\n",
      "[2,   100] loss: 0.178\n",
      "[2,   200] loss: 0.179\n",
      "[2,   300] loss: 0.188\n",
      "[2,   400] loss: 0.192\n",
      "[2,   500] loss: 0.183\n",
      "[2,   600] loss: 0.191\n",
      "Finished Training\n",
      "Accuracy: 92 %\n",
      "Batch size:  200\n",
      "[1,   100] loss: 0.154\n",
      "[1,   200] loss: 0.149\n",
      "[1,   300] loss: 0.153\n",
      "[2,   100] loss: 0.136\n",
      "[2,   200] loss: 0.141\n",
      "[2,   300] loss: 0.150\n",
      "Finished Training\n",
      "Accuracy: 93 %\n",
      "Batch size:  500\n",
      "[1,   100] loss: 0.114\n",
      "[2,   100] loss: 0.108\n",
      "Finished Training\n",
      "Accuracy: 93 %\n",
      "Batch size:  1000\n",
      "Finished Training\n",
      "Accuracy: 93 %\n"
     ]
    }
   ],
   "source": [
    "for batch in batch_size:\n",
    "    trainloader, testloader, classes, dataset_sizes=get_dataset('images',data_transforms, batch)\n",
    "    \n",
    "    print('Batch size: ', batch)\n",
    "    \n",
    "    for epoch in range(2): \n",
    "\n",
    "        running_loss = 0.0\n",
    "        for i, data in enumerate(trainloader, 0):\n",
    "            inputs, labels = data\n",
    "\n",
    "            optimizer.zero_grad()\n",
    "\n",
    "            outputs = ConvNet3(inputs)\n",
    "            loss = criterion(outputs, labels)\n",
    "            loss.backward()\n",
    "            optimizer.step()\n",
    "\n",
    "            running_loss += loss.item()\n",
    "            if i % 100 == 99:\n",
    "                print('[%d, %5d] loss: %.3f' %\n",
    "                      (epoch + 1, i + 1, running_loss / 100))\n",
    "                running_loss = 0.0\n",
    "     \n",
    "    print('Finished Training')\n",
    "    \n",
    "    dataiter = iter(testloader)\n",
    "    images, labels = dataiter.next()\n",
    "    \n",
    "    correct = 0\n",
    "    total = 0\n",
    "    with torch.no_grad():\n",
    "        for data in testloader:\n",
    "            images, labels = data\n",
    "            outputs = ConvNet3(images)\n",
    "            _, predicted = torch.max(outputs.data, 1)\n",
    "            total += labels.size(0)\n",
    "            correct += (predicted == labels).sum().item()\n",
    "\n",
    "    acc3.append(100 * correct / total)\n",
    "            \n",
    "    print('Accuracy: %d %%' % (100 * correct / total))"
   ]
  },
  {
   "cell_type": "markdown",
   "metadata": {},
   "source": [
    "Тут можно взять batch_size = 500 и learning_rate = 0.0005."
   ]
  },
  {
   "cell_type": "code",
   "execution_count": 194,
   "metadata": {},
   "outputs": [],
   "source": [
    "class ConvNet3_1(nn.Module):\n",
    "    def __init__(self):\n",
    "        super(ConvNet3_1, self).__init__()\n",
    "        self.layer1 = nn.Sequential( \n",
    "            nn.Conv2d(3, 32, kernel_size=5, stride=1, padding=2),\n",
    "            nn.ReLU(), \n",
    "            nn.MaxPool2d(kernel_size=2, stride=2))\n",
    "        self.layer2 = nn.Sequential( \n",
    "            nn.Conv2d(32, 64, kernel_size=5, stride=1, padding=2),\n",
    "            nn.ReLU(), \n",
    "            nn.MaxPool2d(kernel_size=2, stride=2))\n",
    "        self.layer3 = nn.Sequential( \n",
    "            nn.Conv2d(64, 128, kernel_size=5, stride=1, padding=2),\n",
    "            nn.ReLU(), \n",
    "            nn.MaxPool2d(kernel_size=2, stride=2))\n",
    "        self.dropout = nn.Dropout()\n",
    "        self.fc1 = nn.Linear(1152, 500)\n",
    "        self.fc2 = nn.Linear(500, 26)\n",
    "\n",
    "    def forward(self, x):\n",
    "        x = self.layer1(x)\n",
    "        x = self.layer2(x)\n",
    "        x = self.layer3(x)\n",
    "        x = x.reshape(x.size(0), -1)\n",
    "        x = self.dropout(x)\n",
    "        x = self.fc1(x)\n",
    "        x = self.fc2(x)\n",
    "        return x\n",
    "    \n",
    "ConvNet3_1 = ConvNet3_1()"
   ]
  },
  {
   "cell_type": "code",
   "execution_count": 195,
   "metadata": {},
   "outputs": [],
   "source": [
    "optimizer = torch.optim.Adam(ConvNet3_1.parameters(), lr=0.0005, betas=(0.9, 0.99))"
   ]
  },
  {
   "cell_type": "code",
   "execution_count": 196,
   "metadata": {},
   "outputs": [],
   "source": [
    "trainloader, testloader, classes, dataset_sizes=get_dataset('images',data_transforms, 500)"
   ]
  },
  {
   "cell_type": "code",
   "execution_count": 197,
   "metadata": {},
   "outputs": [
    {
     "name": "stdout",
     "output_type": "stream",
     "text": [
      "[1,   100] loss: 1.263\n",
      "[2,   100] loss: 0.408\n",
      "Finished Training\n",
      "Accuracy: 88 %\n"
     ]
    }
   ],
   "source": [
    "for epoch in range(2): \n",
    "\n",
    "    running_loss = 0.0\n",
    "    for i, data in enumerate(trainloader, 0):\n",
    "        inputs, labels = data\n",
    "\n",
    "        optimizer.zero_grad()\n",
    "\n",
    "        outputs = ConvNet3_1(inputs)\n",
    "        loss = criterion(outputs, labels)\n",
    "        loss.backward()\n",
    "        optimizer.step()\n",
    "\n",
    "        running_loss += loss.item()\n",
    "        if i % 100 == 99:\n",
    "            print('[%d, %5d] loss: %.3f' %\n",
    "                    (epoch + 1, i + 1, running_loss / 100))\n",
    "            running_loss = 0.0\n",
    "     \n",
    "print('Finished Training')\n",
    "    \n",
    "dataiter = iter(testloader)\n",
    "images, labels = dataiter.next()\n",
    "    \n",
    "correct = 0\n",
    "total = 0\n",
    "with torch.no_grad():\n",
    "    for data in testloader:\n",
    "        images, labels = data\n",
    "        outputs = ConvNet3_1(images)\n",
    "        _, predicted = torch.max(outputs.data, 1)\n",
    "        total += labels.size(0)\n",
    "        correct += (predicted == labels).sum().item()\n",
    "            \n",
    "print('Accuracy: %d %%' % (100 * correct / total))"
   ]
  },
  {
   "cell_type": "markdown",
   "metadata": {},
   "source": [
    "### BatchNorm and GroupNorm"
   ]
  },
  {
   "cell_type": "markdown",
   "metadata": {},
   "source": [
    "Будем делать для модели с 2мя сверточными слоями, так как ее accuracy на подобранных параметрах не отличается от accuracy для модели с 3мя сверточными слоями, а времени займет меньше."
   ]
  },
  {
   "cell_type": "code",
   "execution_count": 198,
   "metadata": {},
   "outputs": [],
   "source": [
    "class ConvNet2_bn(nn.Module):\n",
    "    def __init__(self,in_dim,hid,out_dim):\n",
    "        super(ConvNet2_bn, self).__init__()\n",
    "        self.layer1 = nn.Sequential( \n",
    "            nn.Conv2d(3, 32, kernel_size=5, stride=1, padding=2),\n",
    "            nn.ReLU(), \n",
    "            nn.BatchNorm2d(32),\n",
    "            nn.MaxPool2d(kernel_size=2, stride=2),\n",
    "            nn.Conv2d(32, 64, kernel_size=5, stride=1, padding=2),\n",
    "            nn.ReLU(), \n",
    "            nn.MaxPool2d(kernel_size=2, stride=2),\n",
    "            nn.Flatten(start_dim=1), \n",
    "            nn.Linear(in_features=3136, out_features=500), \n",
    "            nn.ReLU(),\n",
    "            nn.BatchNorm1d(500),\n",
    "            nn.Linear(in_features=500, out_features=200),\n",
    "            nn.ReLU(),\n",
    "        )\n",
    "\n",
    "        self.dropout = nn.Dropout()\n",
    "        self.fc1 = nn.Linear(in_dim, hid)\n",
    "        self.fc2 = nn.Linear(hid, out_dim)\n",
    "        \n",
    "    def forward(self, x):\n",
    "        x = self.layer1(x)\n",
    "        x = x.reshape(x.size(0), -1)\n",
    "        x = self.dropout(x)\n",
    "        x = self.fc1(x)\n",
    "        x = self.fc2(x)\n",
    "        return x\n",
    "    \n",
    "in_dim = 200\n",
    "hid = 100\n",
    "out_dim = 26\n",
    "ConvNet2_bn = ConvNet2_bn(in_dim, hid, out_dim)"
   ]
  },
  {
   "cell_type": "code",
   "execution_count": 199,
   "metadata": {},
   "outputs": [],
   "source": [
    "criterion = nn.CrossEntropyLoss()      #пробуем для лучших параметров модели с 2мя слоями\n",
    "optimizer = torch.optim.Adam(ConvNet2_bn.parameters(), lr=0.0005, betas=(0.9, 0.99))\n",
    "trainloader, testloader, classes, dataset_sizes=get_dataset('images',data_transforms, 500)"
   ]
  },
  {
   "cell_type": "code",
   "execution_count": 202,
   "metadata": {},
   "outputs": [
    {
     "name": "stdout",
     "output_type": "stream",
     "text": [
      "[1,   100] loss: 0.199\n",
      "[2,   100] loss: 0.158\n",
      "Finished Training\n",
      "Accuracy: 92 %\n"
     ]
    }
   ],
   "source": [
    "for epoch in range(2): \n",
    "\n",
    "    running_loss = 0.0\n",
    "    for i, data in enumerate(trainloader, 0):\n",
    "        inputs, labels = data\n",
    "\n",
    "        optimizer.zero_grad()\n",
    "\n",
    "        outputs = ConvNet2_bn(inputs)\n",
    "        loss = criterion(outputs, labels)\n",
    "        loss.backward()\n",
    "        optimizer.step()\n",
    "\n",
    "        running_loss += loss.item()\n",
    "        if i % 100 == 99:\n",
    "            print('[%d, %5d] loss: %.3f' %\n",
    "                    (epoch + 1, i + 1, running_loss / 100))\n",
    "            running_loss = 0.0\n",
    "     \n",
    "print('Finished Training')\n",
    "    \n",
    "dataiter = iter(testloader)\n",
    "images, labels = dataiter.next()\n",
    "    \n",
    "correct = 0\n",
    "total = 0\n",
    "with torch.no_grad():\n",
    "    for data in testloader:\n",
    "        images, labels = data\n",
    "        outputs = ConvNet2_bn(images)\n",
    "        _, predicted = torch.max(outputs.data, 1)\n",
    "        total += labels.size(0)\n",
    "        correct += (predicted == labels).sum().item()\n",
    "            \n",
    "print('Accuracy: %d %%' % (100 * correct / total))"
   ]
  },
  {
   "cell_type": "markdown",
   "metadata": {},
   "source": [
    "Ниже код для подбора batch_size для ConvNet2_bn, но он работает очень долго. В любом случае лучшими параметрами (из тех, на которых мы подбираем для каждой модели) окажутся те, на которых я запускаю эту модель в верхней ячейке. Для ConvNet2_gn лучшие параметры будут аналогичны, код там на подборе тоже долго работает."
   ]
  },
  {
   "cell_type": "code",
   "execution_count": 203,
   "metadata": {},
   "outputs": [],
   "source": [
    "#for batch in batch_size:\n",
    "#    trainloader, testloader, classes, dataset_sizes=get_dataset('images',data_transforms, batch)\n",
    "    \n",
    "#    print('Batch size: ', batch)\n",
    "    \n",
    "#    for epoch in range(2): \n",
    "\n",
    "#        running_loss = 0.0\n",
    "#        for i, data in enumerate(trainloader, 0):\n",
    "#            inputs, labels = data\n",
    "\n",
    "#            optimizer.zero_grad()\n",
    "\n",
    "#            outputs = ConvNet2_bn(inputs)\n",
    "#            loss = criterion(outputs, labels)\n",
    "#            loss.backward()\n",
    "#            optimizer.step()\n",
    "\n",
    "#            running_loss += loss.item()\n",
    "#            if i % 100 == 99:\n",
    "#                print('[%d, %5d] loss: %.3f' %\n",
    "#                      (epoch + 1, i + 1, running_loss / 100))\n",
    "#                running_loss = 0.0\n",
    "     \n",
    "#    print('Finished Training')\n",
    "    \n",
    "#    dataiter = iter(testloader)\n",
    "#    images, labels = dataiter.next()\n",
    "    \n",
    "#    correct = 0\n",
    "#    total = 0\n",
    "#    with torch.no_grad():\n",
    "#        for data in testloader:\n",
    "#            images, labels = data\n",
    "#            outputs = ConvNet2_bn(images)\n",
    "#            _, predicted = torch.max(outputs.data, 1)\n",
    "#            total += labels.size(0)\n",
    "#            correct += (predicted == labels).sum().item()\n",
    "            \n",
    "#    print('Accuracy: %d %%' % (100 * correct / total))"
   ]
  },
  {
   "cell_type": "code",
   "execution_count": 205,
   "metadata": {},
   "outputs": [],
   "source": [
    "class ConvNet2_gn(nn.Module):\n",
    "    def __init__(self,in_dim,hid,out_dim):\n",
    "        super(ConvNet2_gn, self).__init__()\n",
    "        self.layer1 = nn.Sequential(\n",
    "            nn.GroupNorm(3, 3),\n",
    "            nn.Conv2d(3, 32, kernel_size=5, stride=1, padding=2),\n",
    "            nn.GroupNorm(32, 32),\n",
    "            nn.ReLU(), \n",
    "            nn.MaxPool2d(kernel_size=2, stride=2),\n",
    "            nn.Conv2d(32, 64, kernel_size=5, stride=1, padding=2),\n",
    "            nn.ReLU(), \n",
    "            nn.MaxPool2d(kernel_size=2, stride=2),\n",
    "            nn.Flatten(start_dim=1), \n",
    "            nn.Linear(in_features=3136, out_features=500), \n",
    "            nn.ReLU(),\n",
    "            nn.BatchNorm1d(500),\n",
    "            nn.Linear(in_features=500, out_features=200),\n",
    "            nn.ReLU(),\n",
    "        )\n",
    "\n",
    "        self.dropout = nn.Dropout()\n",
    "        self.fc1 = nn.Linear(in_dim, hid)\n",
    "        self.fc2 = nn.Linear(hid, out_dim)\n",
    "        \n",
    "    def forward(self, x):\n",
    "        x = self.layer1(x)\n",
    "        x = x.reshape(x.size(0), -1)\n",
    "        x = self.dropout(x)\n",
    "        x = self.fc1(x)\n",
    "        x = self.fc2(x)\n",
    "        return x\n",
    "    \n",
    "in_dim = 200\n",
    "hid = 100\n",
    "out_dim = 26\n",
    "ConvNet2_gn = ConvNet2_gn(in_dim, hid, out_dim)"
   ]
  },
  {
   "cell_type": "code",
   "execution_count": 206,
   "metadata": {},
   "outputs": [],
   "source": [
    "criterion = nn.CrossEntropyLoss()      #пробуем для лучших параметров модели с 2мя слоями\n",
    "optimizer = torch.optim.Adam(ConvNet2_gn.parameters(), lr=0.0005, betas=(0.9, 0.99))\n",
    "trainloader, testloader, classes, dataset_sizes=get_dataset('images',data_transforms, 500)"
   ]
  },
  {
   "cell_type": "code",
   "execution_count": 207,
   "metadata": {},
   "outputs": [
    {
     "name": "stdout",
     "output_type": "stream",
     "text": [
      "[1,   100] loss: 0.956\n",
      "[2,   100] loss: 0.272\n",
      "Finished Training\n",
      "Accuracy: 91 %\n"
     ]
    }
   ],
   "source": [
    "for epoch in range(2): \n",
    "\n",
    "    running_loss = 0.0\n",
    "    for i, data in enumerate(trainloader, 0):\n",
    "        inputs, labels = data\n",
    "\n",
    "        optimizer.zero_grad()\n",
    "\n",
    "        outputs = ConvNet2_gn(inputs)\n",
    "        loss = criterion(outputs, labels)\n",
    "        loss.backward()\n",
    "        optimizer.step()\n",
    "\n",
    "        running_loss += loss.item()\n",
    "        if i % 100 == 99:\n",
    "            print('[%d, %5d] loss: %.3f' %\n",
    "                    (epoch + 1, i + 1, running_loss / 100))\n",
    "            running_loss = 0.0\n",
    "     \n",
    "print('Finished Training')\n",
    "    \n",
    "dataiter = iter(testloader)\n",
    "images, labels = dataiter.next()\n",
    "    \n",
    "correct = 0\n",
    "total = 0\n",
    "with torch.no_grad():\n",
    "    for data in testloader:\n",
    "        images, labels = data\n",
    "        outputs = ConvNet2_gn(images)\n",
    "        _, predicted = torch.max(outputs.data, 1)\n",
    "        total += labels.size(0)\n",
    "        correct += (predicted == labels).sum().item()\n",
    "            \n",
    "print('Accuracy: %d %%' % (100 * correct / total))"
   ]
  },
  {
   "cell_type": "markdown",
   "metadata": {},
   "source": [
    "Подбор для ConvNet2_gn:"
   ]
  },
  {
   "cell_type": "code",
   "execution_count": 204,
   "metadata": {},
   "outputs": [],
   "source": [
    "#for batch in batch_size:\n",
    "#    trainloader, testloader, classes, dataset_sizes=get_dataset('images',data_transforms, batch)\n",
    "    \n",
    "#    print('Batch size: ', batch)\n",
    "    \n",
    "#    for epoch in range(2): \n",
    "\n",
    "#        running_loss = 0.0\n",
    "#        for i, data in enumerate(trainloader, 0):\n",
    "#            inputs, labels = data\n",
    "\n",
    "#            optimizer.zero_grad()\n",
    "\n",
    "#            outputs = ConvNet2_gn(inputs)\n",
    "#            loss = criterion(outputs, labels)\n",
    "#            loss.backward()\n",
    "#            optimizer.step()\n",
    "\n",
    "#            running_loss += loss.item()\n",
    "#            if i % 100 == 99:\n",
    "#                print('[%d, %5d] loss: %.3f' %\n",
    "#                      (epoch + 1, i + 1, running_loss / 100))\n",
    "#                running_loss = 0.0\n",
    "     \n",
    "#    print('Finished Training')\n",
    "    \n",
    "#    dataiter = iter(testloader)\n",
    "#    images, labels = dataiter.next()\n",
    "    \n",
    "#    correct = 0\n",
    "#    total = 0\n",
    "#    with torch.no_grad():\n",
    "#        for data in testloader:\n",
    "#            images, labels = data\n",
    "#            outputs = ConvNet2_gn(images)\n",
    "#            _, predicted = torch.max(outputs.data, 1)\n",
    "#            total += labels.size(0)\n",
    "#            correct += (predicted == labels).sum().item()\n",
    "            \n",
    "#    print('Accuracy: %d %%' % (100 * correct / total))"
   ]
  },
  {
   "cell_type": "markdown",
   "metadata": {},
   "source": [
    "### Задание 3    \n",
    "  \n",
    "Обучите модель с точностью (accuracy) на тестовых данных:  \n",
    "- `>= 0.85`    +1 балл\n",
    "- `>= 0.95`    +2 балла\n",
    "- `>= 0.99`    +3 балла  "
   ]
  },
  {
   "cell_type": "code",
   "execution_count": 224,
   "metadata": {},
   "outputs": [],
   "source": [
    "class ConvNet2_bn1(nn.Module):\n",
    "    def __init__(self,in_dim,hid,out_dim):\n",
    "        super(ConvNet2_bn1, self).__init__()\n",
    "        self.layer1 = nn.Sequential( \n",
    "            nn.Conv2d(3, 32, kernel_size=5, stride=1, padding=2),\n",
    "            nn.ReLU(), \n",
    "            nn.BatchNorm2d(32),\n",
    "            nn.MaxPool2d(kernel_size=2, stride=2),\n",
    "            nn.Conv2d(32, 64, kernel_size=5, stride=1, padding=2),\n",
    "            nn.ReLU(), \n",
    "            nn.MaxPool2d(kernel_size=2, stride=2),\n",
    "            nn.Flatten(start_dim=1), \n",
    "            nn.Linear(in_features=3136, out_features=500), \n",
    "            nn.ReLU(),\n",
    "            nn.BatchNorm1d(500),\n",
    "            nn.Linear(in_features=500, out_features=200),\n",
    "            nn.ReLU(),\n",
    "        )\n",
    "\n",
    "        self.dropout = nn.Dropout()\n",
    "        self.fc1 = nn.Linear(in_dim, hid)\n",
    "        self.fc2 = nn.Linear(hid, out_dim)\n",
    "        \n",
    "    def forward(self, x):\n",
    "        x1 = self.layer1(x)\n",
    "        x1 = x1.reshape(x1.size(0), -1)\n",
    "        x1 = self.dropout(x1)\n",
    "        x1 = self.fc1(x1)\n",
    "        x1 = self.fc2(x1)\n",
    "        return x1\n",
    "    \n",
    "in_dim = 200\n",
    "hid = 100\n",
    "out_dim = 26\n",
    "ConvNet2_bn1 = ConvNet2_bn1(in_dim, hid, out_dim)"
   ]
  },
  {
   "cell_type": "code",
   "execution_count": 225,
   "metadata": {},
   "outputs": [],
   "source": [
    "criterion = nn.CrossEntropyLoss()   \n",
    "optimizer = torch.optim.Adam(ConvNet2_bn1.parameters(), lr=0.0005, betas=(0.9, 0.99))\n",
    "trainloader, testloader, classes, dataset_sizes=get_dataset('images',data_transforms, 310)"
   ]
  },
  {
   "cell_type": "code",
   "execution_count": 227,
   "metadata": {},
   "outputs": [
    {
     "name": "stdout",
     "output_type": "stream",
     "text": [
      "[1,   100] loss: 0.169\n",
      "[1,   200] loss: 0.166\n",
      "[2,   100] loss: 0.136\n",
      "[2,   200] loss: 0.146\n",
      "[3,   100] loss: 0.121\n",
      "[3,   200] loss: 0.125\n",
      "[4,   100] loss: 0.099\n",
      "[4,   200] loss: 0.114\n",
      "[5,   100] loss: 0.089\n",
      "[5,   200] loss: 0.105\n",
      "[6,   100] loss: 0.078\n",
      "[6,   200] loss: 0.086\n",
      "Finished Training\n",
      "Accuracy: 92 %\n"
     ]
    }
   ],
   "source": [
    "for epoch in range(6): \n",
    "\n",
    "    running_loss = 0.0\n",
    "    for i, data in enumerate(trainloader, 0):\n",
    "        inputs, labels = data\n",
    "\n",
    "        optimizer.zero_grad()\n",
    "\n",
    "        outputs = ConvNet2_bn1(inputs)\n",
    "        loss = criterion(outputs, labels)\n",
    "        loss.backward()\n",
    "        optimizer.step()\n",
    "\n",
    "        running_loss += loss.item()\n",
    "        if i % 100 == 99:\n",
    "            print('[%d, %5d] loss: %.3f' %\n",
    "                    (epoch + 1, i + 1, running_loss / 100))\n",
    "            running_loss = 0.0\n",
    "     \n",
    "print('Finished Training')\n",
    "    \n",
    "dataiter = iter(testloader)\n",
    "images, labels = dataiter.next()\n",
    "    \n",
    "correct = 0\n",
    "total = 0\n",
    "with torch.no_grad():\n",
    "    for data in testloader:\n",
    "        images, labels = data\n",
    "        outputs = ConvNet2_bn1(images)\n",
    "        _, predicted = torch.max(outputs.data, 1)\n",
    "        total += labels.size(0)\n",
    "        correct += (predicted == labels).sum().item()\n",
    "            \n",
    "print('Accuracy: %d %%' % (100 * correct / total))"
   ]
  },
  {
   "cell_type": "markdown",
   "metadata": {},
   "source": [
    "## Бонусные задания"
   ]
  },
  {
   "cell_type": "markdown",
   "metadata": {},
   "source": [
    "**Задание 1 (1 балл).**  \n",
    "\n",
    "Напишите на листке белой бумаги (маркером или ручкой) от 5 разных букв (можно больше 5 букв в целом с повторениями, но должно быть минимум 5 разных) английского алфавита (в датасете есть как прописные, так и строчные буквы). Сфотографируйте букву и приведите её картинку к размеру $28\\times28$ и, желательно, к чёрно-белой палитре цветов. Передайте получившиеся изображения вашей модели и выполните предсказание, оцените результат.  \n",
    "  \n",
    "**Tips:**  \n",
    "- В датасете все буквы занимают практически всё пространство картинки по высоте или ширине (или вместе). Если ваша буква будет слишком маленькой или большой, это может повлиять на результат детекции.\n",
    "- Помните, что буква должна быть белого цвета, а фон - чёрного.\n",
    "- Описание ваших действий при выполнении этого задания (что вы использовали, чтобы привести картинку к нужному виду) категорически приветствуется :)"
   ]
  },
  {
   "cell_type": "markdown",
   "metadata": {},
   "source": [
    "**Задание 2 (1 балл):**    \n",
    "  \n",
    "Используйте transfer learning подход для решения задачи - дообучите какую-либо модель, предобученную на ImageNet, для классификации рукописных букв. Оцените качество решения.  \n",
    "В качестве предобученой модели можно взять одну из [torchvision models](https://pytorch.org/docs/stable/torchvision/models.html)."
   ]
  },
  {
   "cell_type": "markdown",
   "metadata": {},
   "source": [
    "**Задание 3 (1 балл):**  \n",
    "  \n",
    "Добавьте вывод значений функции потерь и accuracy в tensorboard.  \n",
    "Метрики нужно выводить и для обучающей, и для тестовой выборки."
   ]
  }
 ],
 "metadata": {
  "kernelspec": {
   "display_name": "Python 3",
   "language": "python",
   "name": "python3"
  },
  "language_info": {
   "codemirror_mode": {
    "name": "ipython",
    "version": 3
   },
   "file_extension": ".py",
   "mimetype": "text/x-python",
   "name": "python",
   "nbconvert_exporter": "python",
   "pygments_lexer": "ipython3",
   "version": "3.7.4"
  }
 },
 "nbformat": 4,
 "nbformat_minor": 2
}
